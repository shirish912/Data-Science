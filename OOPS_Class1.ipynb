{
  "nbformat": 4,
  "nbformat_minor": 0,
  "metadata": {
    "colab": {
      "provenance": [],
      "authorship_tag": "ABX9TyMOc/Xy0+ag312vbxmEawn4",
      "include_colab_link": true
    },
    "kernelspec": {
      "name": "python3",
      "display_name": "Python 3"
    },
    "language_info": {
      "name": "python"
    }
  },
  "cells": [
    {
      "cell_type": "markdown",
      "metadata": {
        "id": "view-in-github",
        "colab_type": "text"
      },
      "source": [
        "<a href=\"https://colab.research.google.com/github/charlie-aashutosh/IIM-INDORE-Python/blob/main/OOPS_Class1.ipynb\" target=\"_parent\"><img src=\"https://colab.research.google.com/assets/colab-badge.svg\" alt=\"Open In Colab\"/></a>"
      ]
    },
    {
      "cell_type": "code",
      "execution_count": 1,
      "metadata": {
        "id": "nlJjlyD421P9"
      },
      "outputs": [],
      "source": [
        "class Person:\n",
        "  name='Aashutosh'\n",
        "  age=99\n",
        "  weight=100\n",
        "\n",
        "per1=Person() #per1 is the object of class Person"
      ]
    },
    {
      "cell_type": "code",
      "source": [
        "print(per1.name)"
      ],
      "metadata": {
        "colab": {
          "base_uri": "https://localhost:8080/"
        },
        "id": "a_JiCYgR4yRb",
        "outputId": "4ee77e16-a235-4a57-8677-693bf9dce316"
      },
      "execution_count": 2,
      "outputs": [
        {
          "output_type": "stream",
          "name": "stdout",
          "text": [
            "Aashutosh\n"
          ]
        }
      ]
    },
    {
      "cell_type": "code",
      "source": [
        "print(per1.weight)"
      ],
      "metadata": {
        "colab": {
          "base_uri": "https://localhost:8080/"
        },
        "id": "dUqSq1NH48rN",
        "outputId": "63a9444d-f1a6-4b88-f502-ed33bb62a2c7"
      },
      "execution_count": 3,
      "outputs": [
        {
          "output_type": "stream",
          "name": "stdout",
          "text": [
            "100\n"
          ]
        }
      ]
    },
    {
      "cell_type": "code",
      "source": [
        "print(per1.age)"
      ],
      "metadata": {
        "colab": {
          "base_uri": "https://localhost:8080/"
        },
        "id": "WffvOS_D5A2C",
        "outputId": "fff28927-f9ec-4233-89b2-dc0a1942cff4"
      },
      "execution_count": 4,
      "outputs": [
        {
          "output_type": "stream",
          "name": "stdout",
          "text": [
            "99\n"
          ]
        }
      ]
    },
    {
      "cell_type": "markdown",
      "source": [
        "In OOPS instead of naming it as a function, we call it as a method"
      ],
      "metadata": {
        "id": "zlmzCWnN_SHL"
      }
    },
    {
      "cell_type": "code",
      "source": [
        "class Person:\n",
        "\n",
        "  def __init__(self,name,age,weight): #constructor\n",
        "    self.name=name #initializing the name attribute\n",
        "    self.age=age #initializing the age attribute\n",
        "    self.weight=weight #initializing the weight attribute"
      ],
      "metadata": {
        "id": "LtHwpckg5HNX"
      },
      "execution_count": 5,
      "outputs": []
    },
    {
      "cell_type": "code",
      "source": [
        "p1=Person('John',39,88) #object 1 of class Person"
      ],
      "metadata": {
        "id": "dBJR7TeM6tU_"
      },
      "execution_count": 6,
      "outputs": []
    },
    {
      "cell_type": "code",
      "source": [
        "print(p1.name)"
      ],
      "metadata": {
        "colab": {
          "base_uri": "https://localhost:8080/"
        },
        "id": "dAznlyrk64KH",
        "outputId": "17c8725b-af06-42f7-c7c8-2d026d9ff75c"
      },
      "execution_count": 7,
      "outputs": [
        {
          "output_type": "stream",
          "name": "stdout",
          "text": [
            "John\n"
          ]
        }
      ]
    },
    {
      "cell_type": "code",
      "source": [
        "print(p1.weight)"
      ],
      "metadata": {
        "colab": {
          "base_uri": "https://localhost:8080/"
        },
        "id": "U0mcAn4X68ke",
        "outputId": "1c6d2d75-04ac-4498-fada-4d212cb97c51"
      },
      "execution_count": 8,
      "outputs": [
        {
          "output_type": "stream",
          "name": "stdout",
          "text": [
            "88\n"
          ]
        }
      ]
    },
    {
      "cell_type": "code",
      "source": [
        "p2=Person('Chirag',56,90) #object 2 of class Person"
      ],
      "metadata": {
        "id": "hcNqtzZ86-9p"
      },
      "execution_count": 9,
      "outputs": []
    },
    {
      "cell_type": "code",
      "source": [
        "print(p2.weight)"
      ],
      "metadata": {
        "colab": {
          "base_uri": "https://localhost:8080/"
        },
        "id": "JMiRiWxZ7MMz",
        "outputId": "46b0f2f5-5964-477e-a869-c79a147cd94c"
      },
      "execution_count": 10,
      "outputs": [
        {
          "output_type": "stream",
          "name": "stdout",
          "text": [
            "90\n"
          ]
        }
      ]
    },
    {
      "cell_type": "code",
      "source": [
        "print(p2.name)"
      ],
      "metadata": {
        "colab": {
          "base_uri": "https://localhost:8080/"
        },
        "id": "xltKU0W27PDu",
        "outputId": "1e42fd6a-6486-4db9-e154-eaa6be97c527"
      },
      "execution_count": 11,
      "outputs": [
        {
          "output_type": "stream",
          "name": "stdout",
          "text": [
            "Chirag\n"
          ]
        }
      ]
    },
    {
      "cell_type": "code",
      "source": [
        "class Person:\n",
        "\n",
        "  def __init__(self,name,age=99,hobby='Cricket'): #constructor\n",
        "    self.name=name #initializing the name attribute\n",
        "    self.age=age #initializing the age attribute\n",
        "    self.hobby=hobby #initializing the hobby attribute"
      ],
      "metadata": {
        "id": "g3QoNw9q7Q1T"
      },
      "execution_count": 12,
      "outputs": []
    },
    {
      "cell_type": "code",
      "source": [
        "p1=Person(\"Aashutosh\",98,'Basketball')"
      ],
      "metadata": {
        "id": "47MZpD5F_1Ga"
      },
      "execution_count": 13,
      "outputs": []
    },
    {
      "cell_type": "code",
      "source": [
        "print(p1.hobby)"
      ],
      "metadata": {
        "colab": {
          "base_uri": "https://localhost:8080/"
        },
        "id": "Ur25e9XW_-9i",
        "outputId": "f45b6934-6c94-4c98-e730-e25b3118d209"
      },
      "execution_count": 15,
      "outputs": [
        {
          "output_type": "stream",
          "name": "stdout",
          "text": [
            "Basketball\n"
          ]
        }
      ]
    },
    {
      "cell_type": "code",
      "source": [
        "p2=Person(\"Catherine\")"
      ],
      "metadata": {
        "id": "Mi5ZBi0iABGy"
      },
      "execution_count": 18,
      "outputs": []
    },
    {
      "cell_type": "code",
      "source": [
        "print(p2.age)"
      ],
      "metadata": {
        "colab": {
          "base_uri": "https://localhost:8080/"
        },
        "id": "dK0VZ58fATdb",
        "outputId": "f0874496-f61c-473b-c2ba-d31291cfefb0"
      },
      "execution_count": 19,
      "outputs": [
        {
          "output_type": "stream",
          "name": "stdout",
          "text": [
            "99\n"
          ]
        }
      ]
    },
    {
      "cell_type": "code",
      "source": [
        "print(p2.hobby)"
      ],
      "metadata": {
        "colab": {
          "base_uri": "https://localhost:8080/"
        },
        "id": "WuQj_hGxAWp0",
        "outputId": "56ec8178-72c6-4e27-c2db-675cc065904d"
      },
      "execution_count": 20,
      "outputs": [
        {
          "output_type": "stream",
          "name": "stdout",
          "text": [
            "Cricket\n"
          ]
        }
      ]
    },
    {
      "cell_type": "code",
      "source": [
        "p3=Person(\"Charlie\",32)"
      ],
      "metadata": {
        "id": "-NuQofScAeoL"
      },
      "execution_count": 21,
      "outputs": []
    },
    {
      "cell_type": "code",
      "source": [
        "print(p3.age)"
      ],
      "metadata": {
        "colab": {
          "base_uri": "https://localhost:8080/"
        },
        "id": "8TD8FyJ-AsvI",
        "outputId": "2e3a0d03-1fbd-4191-94f1-aee498adff73"
      },
      "execution_count": 22,
      "outputs": [
        {
          "output_type": "stream",
          "name": "stdout",
          "text": [
            "32\n"
          ]
        }
      ]
    },
    {
      "cell_type": "code",
      "source": [
        "print(p3.hobby)"
      ],
      "metadata": {
        "colab": {
          "base_uri": "https://localhost:8080/"
        },
        "id": "XzJfVnjyAvGU",
        "outputId": "3391f931-0416-4b04-e49a-6794dd637135"
      },
      "execution_count": 23,
      "outputs": [
        {
          "output_type": "stream",
          "name": "stdout",
          "text": [
            "Cricket\n"
          ]
        }
      ]
    },
    {
      "cell_type": "markdown",
      "source": [
        "Important pillars in OOPS\n",
        "\n",
        "1. Inheritance\n",
        "\n",
        "2. Polymorphism\n",
        "\n",
        "3. Abstraction\n",
        "\n",
        "4. Encapsulation"
      ],
      "metadata": {
        "id": "F3e_m2A5B5kT"
      }
    },
    {
      "cell_type": "markdown",
      "source": [
        "Inheritance\n",
        "\n",
        "1. Simple inheritance\n",
        "\n",
        "2. Multilevel inheritance\n",
        "\n",
        "3. Multiple inheritance\n",
        "\n",
        "4. Hybrid inheritance"
      ],
      "metadata": {
        "id": "4kzLV9lBCDvP"
      }
    },
    {
      "cell_type": "code",
      "source": [
        "#simple inheritance\n",
        "class Animal: #parent class\n",
        "\n",
        "  def __init__(self,name):\n",
        "    self.name=name\n",
        "\n",
        "  def eat(self):\n",
        "    print(self.name+\"animal is eating\")\n",
        "\n",
        "class Dog(Animal): #child class\n",
        "\n",
        "  def __init__(self,name,breed):\n",
        "    Animal.__init__(self,name)\n",
        "    self.breed=breed"
      ],
      "metadata": {
        "id": "ClDpRlZTBzFA"
      },
      "execution_count": 28,
      "outputs": []
    },
    {
      "cell_type": "code",
      "source": [
        "doggie=Dog('Spike','Dobberman') #doggie is an object of child class Dog (having parent class as Animal)"
      ],
      "metadata": {
        "id": "sEBbx10iBzBa"
      },
      "execution_count": 29,
      "outputs": []
    },
    {
      "cell_type": "code",
      "source": [
        "doggie.eat()"
      ],
      "metadata": {
        "colab": {
          "base_uri": "https://localhost:8080/"
        },
        "id": "tM3EBAvXBy-j",
        "outputId": "d09f3dfe-9b76-48ab-fc91-951d6d355692"
      },
      "execution_count": 31,
      "outputs": [
        {
          "output_type": "stream",
          "name": "stdout",
          "text": [
            "Spikeanimal is eating\n"
          ]
        }
      ]
    },
    {
      "cell_type": "code",
      "source": [
        "print(doggie.breed)"
      ],
      "metadata": {
        "colab": {
          "base_uri": "https://localhost:8080/"
        },
        "id": "okuKcXKVBy78",
        "outputId": "c48f7c51-b7ec-4656-ab29-7a40126ed79e"
      },
      "execution_count": 32,
      "outputs": [
        {
          "output_type": "stream",
          "name": "stdout",
          "text": [
            "Dobberman\n"
          ]
        }
      ]
    },
    {
      "cell_type": "code",
      "source": [],
      "metadata": {
        "id": "O0IkX2shBy5v"
      },
      "execution_count": null,
      "outputs": []
    },
    {
      "cell_type": "code",
      "source": [],
      "metadata": {
        "id": "0phwHZPkBy2_"
      },
      "execution_count": null,
      "outputs": []
    },
    {
      "cell_type": "markdown",
      "source": [
        "Methods:\n",
        "\n",
        "1. Class method\n",
        "\n",
        "2. Static method\n",
        "\n",
        "3. Instance method"
      ],
      "metadata": {
        "id": "L424oDbeBVBn"
      }
    },
    {
      "cell_type": "code",
      "source": [],
      "metadata": {
        "id": "L9CYDxChA0jO"
      },
      "execution_count": null,
      "outputs": []
    }
  ]
}