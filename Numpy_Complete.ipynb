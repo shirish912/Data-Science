{
  "cells": [
    {
      "cell_type": "markdown",
      "metadata": {
        "id": "view-in-github",
        "colab_type": "text"
      },
      "source": [
        "<a href=\"https://colab.research.google.com/github/charlie-aashutosh/IIM-INDORE-Python/blob/main/Numpy_Complete.ipynb\" target=\"_parent\"><img src=\"https://colab.research.google.com/assets/colab-badge.svg\" alt=\"Open In Colab\"/></a>"
      ]
    },
    {
      "cell_type": "markdown",
      "metadata": {
        "id": "mvdGslpGlU8z"
      },
      "source": [
        "Numpy"
      ]
    },
    {
      "cell_type": "code",
      "execution_count": 1,
      "metadata": {
        "id": "GiF0QzURn2aL",
        "colab": {
          "base_uri": "https://localhost:8080/"
        },
        "outputId": "15e32afc-32ea-432d-8ef2-eda4ac08859d"
      },
      "outputs": [
        {
          "output_type": "stream",
          "name": "stdout",
          "text": [
            "Requirement already satisfied: numpy in /usr/local/lib/python3.10/dist-packages (1.25.2)\n"
          ]
        }
      ],
      "source": [
        "!pip install numpy"
      ]
    },
    {
      "cell_type": "code",
      "execution_count": 2,
      "metadata": {
        "id": "6OxRdouhcvlW"
      },
      "outputs": [],
      "source": [
        "import numpy as np #np is the alias name"
      ]
    },
    {
      "cell_type": "code",
      "execution_count": 3,
      "metadata": {
        "id": "gql36gi9lawm"
      },
      "outputs": [],
      "source": [
        "#convert list --- array and then we will use numpy\n",
        "my_list=[1,2,3,4,5]"
      ]
    },
    {
      "cell_type": "code",
      "execution_count": 4,
      "metadata": {
        "colab": {
          "base_uri": "https://localhost:8080/"
        },
        "id": "uzUosDQDlt65",
        "outputId": "33f8a06c-f7b6-47b5-cce7-b3a23fbb135f"
      },
      "outputs": [
        {
          "output_type": "execute_result",
          "data": {
            "text/plain": [
              "list"
            ]
          },
          "metadata": {},
          "execution_count": 4
        }
      ],
      "source": [
        "type(my_list)"
      ]
    },
    {
      "cell_type": "code",
      "execution_count": 5,
      "metadata": {
        "id": "mWTcxOf6lvWt"
      },
      "outputs": [],
      "source": [
        "my_array=np.array(my_list) #.array() used to convert list - array"
      ]
    },
    {
      "cell_type": "code",
      "execution_count": 6,
      "metadata": {
        "colab": {
          "base_uri": "https://localhost:8080/"
        },
        "id": "Tnsr9shXl3Hj",
        "outputId": "e6d9aa68-3b89-4b0c-9d59-11da1b4457c4"
      },
      "outputs": [
        {
          "output_type": "stream",
          "name": "stdout",
          "text": [
            "[1 2 3 4 5]\n"
          ]
        }
      ],
      "source": [
        "print(my_array) #here o/p is a row and has no columns so it is referred to as a 1D array"
      ]
    },
    {
      "cell_type": "code",
      "execution_count": 7,
      "metadata": {
        "colab": {
          "base_uri": "https://localhost:8080/"
        },
        "id": "XI0pf1ORl5Ci",
        "outputId": "97932169-f209-47a3-b00e-8be4b1acb0a0"
      },
      "outputs": [
        {
          "output_type": "execute_result",
          "data": {
            "text/plain": [
              "numpy.ndarray"
            ]
          },
          "metadata": {},
          "execution_count": 7
        }
      ],
      "source": [
        "type(my_array)"
      ]
    },
    {
      "cell_type": "code",
      "execution_count": 8,
      "metadata": {
        "id": "iNjy1W6rl7l8"
      },
      "outputs": [],
      "source": [
        "#2 dimentional array\n",
        "my_list_1=[1,2,3,4,5]\n",
        "my_list_2=[0,0,1,5,5]\n",
        "my_list_3=[3,4,5,9,0]\n",
        "\n",
        "arr=np.array([my_list_1,my_list_2,my_list_3])"
      ]
    },
    {
      "cell_type": "code",
      "execution_count": 9,
      "metadata": {
        "colab": {
          "base_uri": "https://localhost:8080/"
        },
        "id": "cAQ561qRm4jJ",
        "outputId": "c7b28ba0-aed3-4249-97ad-e789a32941d9"
      },
      "outputs": [
        {
          "output_type": "stream",
          "name": "stdout",
          "text": [
            "[[1 2 3 4 5]\n",
            " [0 0 1 5 5]\n",
            " [3 4 5 9 0]]\n"
          ]
        }
      ],
      "source": [
        "print(arr) #2D array"
      ]
    },
    {
      "cell_type": "code",
      "execution_count": 10,
      "metadata": {
        "colab": {
          "base_uri": "https://localhost:8080/"
        },
        "id": "RRkzNtusnFo0",
        "outputId": "79b81caa-5257-45d5-b81f-5db2126d8ffb"
      },
      "outputs": [
        {
          "output_type": "execute_result",
          "data": {
            "text/plain": [
              "(3, 5)"
            ]
          },
          "metadata": {},
          "execution_count": 10
        }
      ],
      "source": [
        "arr.shape #here 3 indicates number of rows and 5 indicates number of columns"
      ]
    },
    {
      "cell_type": "code",
      "execution_count": 11,
      "metadata": {
        "colab": {
          "base_uri": "https://localhost:8080/"
        },
        "id": "ijQkxcjlm7xS",
        "outputId": "a9eefcbe-d56c-4b37-963a-5e95f26911ae"
      },
      "outputs": [
        {
          "output_type": "execute_result",
          "data": {
            "text/plain": [
              "numpy.ndarray"
            ]
          },
          "metadata": {},
          "execution_count": 11
        }
      ],
      "source": [
        "type(arr)"
      ]
    },
    {
      "cell_type": "code",
      "execution_count": 12,
      "metadata": {
        "colab": {
          "base_uri": "https://localhost:8080/"
        },
        "id": "58oS6VEaojHj",
        "outputId": "6d7370a6-8546-4a33-9a70-72ae7c88ad95"
      },
      "outputs": [
        {
          "output_type": "execute_result",
          "data": {
            "text/plain": [
              "array([[1, 2, 3],\n",
              "       [4, 5, 0],\n",
              "       [0, 1, 5],\n",
              "       [5, 3, 4],\n",
              "       [5, 9, 0]])"
            ]
          },
          "metadata": {},
          "execution_count": 12
        }
      ],
      "source": [
        "arr.reshape(5,3)"
      ]
    },
    {
      "cell_type": "code",
      "execution_count": 13,
      "metadata": {
        "colab": {
          "base_uri": "https://localhost:8080/",
          "height": 144
        },
        "id": "aZogPthlojEA",
        "outputId": "ca266714-6bc2-462e-ecd7-0c6def916c39"
      },
      "outputs": [
        {
          "output_type": "error",
          "ename": "ValueError",
          "evalue": "cannot reshape array of size 15 into shape (5,4)",
          "traceback": [
            "\u001b[0;31m---------------------------------------------------------------------------\u001b[0m",
            "\u001b[0;31mValueError\u001b[0m                                Traceback (most recent call last)",
            "\u001b[0;32m<ipython-input-13-081adc27730c>\u001b[0m in \u001b[0;36m<cell line: 1>\u001b[0;34m()\u001b[0m\n\u001b[0;32m----> 1\u001b[0;31m \u001b[0marr\u001b[0m\u001b[0;34m.\u001b[0m\u001b[0mreshape\u001b[0m\u001b[0;34m(\u001b[0m\u001b[0;36m5\u001b[0m\u001b[0;34m,\u001b[0m\u001b[0;36m4\u001b[0m\u001b[0;34m)\u001b[0m\u001b[0;34m\u001b[0m\u001b[0;34m\u001b[0m\u001b[0m\n\u001b[0m",
            "\u001b[0;31mValueError\u001b[0m: cannot reshape array of size 15 into shape (5,4)"
          ]
        }
      ],
      "source": [
        "arr.reshape(5,4)"
      ]
    },
    {
      "cell_type": "code",
      "execution_count": 14,
      "metadata": {
        "id": "aATQTKOPojBj"
      },
      "outputs": [],
      "source": [
        "arr_new=np.array([[1,2,3,4],\n",
        " [5,6,7,8],[9,10,11,12]])"
      ]
    },
    {
      "cell_type": "code",
      "execution_count": 15,
      "metadata": {
        "colab": {
          "base_uri": "https://localhost:8080/"
        },
        "id": "lWv76QZOoi-2",
        "outputId": "d8ff8498-b6d7-49d8-a326-11adb6d8d190"
      },
      "outputs": [
        {
          "output_type": "stream",
          "name": "stdout",
          "text": [
            "[[ 1  2  3  4]\n",
            " [ 5  6  7  8]\n",
            " [ 9 10 11 12]]\n"
          ]
        }
      ],
      "source": [
        "print(arr_new)"
      ]
    },
    {
      "cell_type": "code",
      "execution_count": 16,
      "metadata": {
        "colab": {
          "base_uri": "https://localhost:8080/"
        },
        "id": "5AM3i6Qloi71",
        "outputId": "8f69f4ea-bf4a-4e60-e65c-cc23c6927dba"
      },
      "outputs": [
        {
          "output_type": "execute_result",
          "data": {
            "text/plain": [
              "(3, 4)"
            ]
          },
          "metadata": {},
          "execution_count": 16
        }
      ],
      "source": [
        "arr_new.shape"
      ]
    },
    {
      "cell_type": "code",
      "execution_count": 17,
      "metadata": {
        "id": "AOd8DzE4nCs5"
      },
      "outputs": [],
      "source": [
        "new_arr=arr_new.reshape(2,2,3)"
      ]
    },
    {
      "cell_type": "code",
      "execution_count": 18,
      "metadata": {
        "colab": {
          "base_uri": "https://localhost:8080/"
        },
        "id": "3m42z5H9p1ol",
        "outputId": "b9c600af-71db-4c6a-bbfa-6348c7237fed"
      },
      "outputs": [
        {
          "output_type": "stream",
          "name": "stdout",
          "text": [
            "[[[ 1  2  3]\n",
            "  [ 4  5  6]]\n",
            "\n",
            " [[ 7  8  9]\n",
            "  [10 11 12]]]\n"
          ]
        }
      ],
      "source": [
        "print(new_arr)"
      ]
    },
    {
      "cell_type": "code",
      "execution_count": 19,
      "metadata": {
        "colab": {
          "base_uri": "https://localhost:8080/"
        },
        "id": "Jqgfd1jip2_r",
        "outputId": "3dd9d356-f3ac-4a46-c2ec-9b7af6b3dd70"
      },
      "outputs": [
        {
          "output_type": "execute_result",
          "data": {
            "text/plain": [
              "(2, 2, 3)"
            ]
          },
          "metadata": {},
          "execution_count": 19
        }
      ],
      "source": [
        "new_arr.shape"
      ]
    },
    {
      "cell_type": "code",
      "execution_count": 23,
      "metadata": {
        "id": "spNAY1Q_qPX2"
      },
      "outputs": [],
      "source": [
        "new_arr=arr_new.reshape(3,2,2)"
      ]
    },
    {
      "cell_type": "code",
      "execution_count": 24,
      "metadata": {
        "id": "AcNhbTtKq__Z",
        "colab": {
          "base_uri": "https://localhost:8080/"
        },
        "outputId": "082f5be6-44bc-4a7c-a91c-6328497327e4"
      },
      "outputs": [
        {
          "output_type": "execute_result",
          "data": {
            "text/plain": [
              "array([[[ 1,  2],\n",
              "        [ 3,  4]],\n",
              "\n",
              "       [[ 5,  6],\n",
              "        [ 7,  8]],\n",
              "\n",
              "       [[ 9, 10],\n",
              "        [11, 12]]])"
            ]
          },
          "metadata": {},
          "execution_count": 24
        }
      ],
      "source": [
        "new_arr"
      ]
    },
    {
      "cell_type": "code",
      "source": [
        "arr=np.array([[1,2,3],[4,5,6]])"
      ],
      "metadata": {
        "id": "XyEpBPd89zaj"
      },
      "execution_count": 25,
      "outputs": []
    },
    {
      "cell_type": "code",
      "source": [
        "print(arr)"
      ],
      "metadata": {
        "colab": {
          "base_uri": "https://localhost:8080/"
        },
        "id": "octPcFM2-WzK",
        "outputId": "b373d545-1a66-44ef-c54c-e6506ce1c8ee"
      },
      "execution_count": 26,
      "outputs": [
        {
          "output_type": "stream",
          "name": "stdout",
          "text": [
            "[[1 2 3]\n",
            " [4 5 6]]\n"
          ]
        }
      ]
    },
    {
      "cell_type": "code",
      "source": [
        "flat_arr=arr.flatten()"
      ],
      "metadata": {
        "id": "Dlk4CtOi-YdI"
      },
      "execution_count": 27,
      "outputs": []
    },
    {
      "cell_type": "code",
      "source": [
        "print(flat_arr)"
      ],
      "metadata": {
        "colab": {
          "base_uri": "https://localhost:8080/"
        },
        "id": "LBWNgR1I-ia6",
        "outputId": "247b1f65-dbe7-42af-89cb-fa4623804d6e"
      },
      "execution_count": 28,
      "outputs": [
        {
          "output_type": "stream",
          "name": "stdout",
          "text": [
            "[1 2 3 4 5 6]\n"
          ]
        }
      ]
    },
    {
      "cell_type": "code",
      "source": [
        "a=np.array([1,2,3,4,5])\n",
        "\n",
        "print(\"add 1 to each element\",a+1)\n",
        "print(\"mul 5 to each element\",a*5)\n",
        "print(\"sub 2 from each element\",a-2)\n",
        "print(\"squaring all the elements\",a**2)"
      ],
      "metadata": {
        "colab": {
          "base_uri": "https://localhost:8080/"
        },
        "id": "SUFPwde5-jj2",
        "outputId": "aca3604f-1db3-4d03-8500-ba71aaf94d20"
      },
      "execution_count": 29,
      "outputs": [
        {
          "output_type": "stream",
          "name": "stdout",
          "text": [
            "add 1 to each element [2 3 4 5 6]\n",
            "mul 5 to each element [ 5 10 15 20 25]\n",
            "sub 2 from each element [-1  0  1  2  3]\n",
            "squaring all the elements [ 1  4  9 16 25]\n"
          ]
        }
      ]
    },
    {
      "cell_type": "code",
      "source": [
        "new_arr=np.array([[1,5,7],[4,7,2],[3,1,9]])"
      ],
      "metadata": {
        "id": "dNytLO-Q_WB0"
      },
      "execution_count": 30,
      "outputs": []
    },
    {
      "cell_type": "code",
      "source": [
        "print(new_arr)"
      ],
      "metadata": {
        "colab": {
          "base_uri": "https://localhost:8080/"
        },
        "id": "LGUamCY6_1hg",
        "outputId": "7ad39144-6796-465c-ad85-27aec95a6ffd"
      },
      "execution_count": 31,
      "outputs": [
        {
          "output_type": "stream",
          "name": "stdout",
          "text": [
            "[[1 5 7]\n",
            " [4 7 2]\n",
            " [3 1 9]]\n"
          ]
        }
      ]
    },
    {
      "cell_type": "code",
      "source": [
        "print(\"largest element from the matrix\",new_arr.max())\n",
        "print(\"smallest element from the matrix\",new_arr.min())\n",
        "print(\"sum of all the element from the matrix\",new_arr.sum())\n",
        "print(\"transpose of the matrix\",new_arr.T)"
      ],
      "metadata": {
        "colab": {
          "base_uri": "https://localhost:8080/"
        },
        "id": "ewRtS48Z_29e",
        "outputId": "2b530c1d-2ec3-4567-e547-53ddd8772f8d"
      },
      "execution_count": 35,
      "outputs": [
        {
          "output_type": "stream",
          "name": "stdout",
          "text": [
            "largest element from the matrix 9\n",
            "smallest element from the matrix 1\n",
            "sum of all the element from the matrix 39\n",
            "transpose of the matrix [[1 4 3]\n",
            " [5 7 1]\n",
            " [7 2 9]]\n"
          ]
        }
      ]
    },
    {
      "cell_type": "code",
      "source": [
        "mat_1=np.array([[1,2],[3,4]])\n",
        "mat_2=np.array([[4,3],[2,1]])\n",
        "\n",
        "print(\"adding the metrics together\",mat_1+mat_2)\n",
        "print(\"multiplication of the metrics together\",mat_1*mat_2)"
      ],
      "metadata": {
        "colab": {
          "base_uri": "https://localhost:8080/"
        },
        "id": "e7VYzPenALxO",
        "outputId": "e9e57302-7dbf-4736-9c5d-984b18126e1a"
      },
      "execution_count": 37,
      "outputs": [
        {
          "output_type": "stream",
          "name": "stdout",
          "text": [
            "adding the metrics together [[5 5]\n",
            " [5 5]]\n",
            "multiplication of the metrics together [[4 6]\n",
            " [6 4]]\n"
          ]
        }
      ]
    },
    {
      "cell_type": "code",
      "source": [
        "print(np.linalg.eig(mat_1)) #eigen values and eigen vectors"
      ],
      "metadata": {
        "colab": {
          "base_uri": "https://localhost:8080/"
        },
        "id": "1kh_cx8QD3Gk",
        "outputId": "66c7c03c-c62d-4671-8e0a-f3bc72a87d29"
      },
      "execution_count": 38,
      "outputs": [
        {
          "output_type": "stream",
          "name": "stdout",
          "text": [
            "EigResult(eigenvalues=array([-0.37228132,  5.37228132]), eigenvectors=array([[-0.82456484, -0.41597356],\n",
            "       [ 0.56576746, -0.90937671]]))\n"
          ]
        }
      ]
    },
    {
      "cell_type": "code",
      "source": [
        "np.arange(1,10) #10 will be exclusive in nature and from 1 to 9 we will get the o/p (equally spaced)"
      ],
      "metadata": {
        "colab": {
          "base_uri": "https://localhost:8080/"
        },
        "id": "JrA3ms3iEvur",
        "outputId": "535e8050-c9c4-42aa-a6b3-44aab183d8e2"
      },
      "execution_count": 39,
      "outputs": [
        {
          "output_type": "execute_result",
          "data": {
            "text/plain": [
              "array([1, 2, 3, 4, 5, 6, 7, 8, 9])"
            ]
          },
          "metadata": {},
          "execution_count": 39
        }
      ]
    },
    {
      "cell_type": "code",
      "source": [
        "np.arange(0,15) #step size bydefault is 1"
      ],
      "metadata": {
        "colab": {
          "base_uri": "https://localhost:8080/"
        },
        "id": "sB07I-3RHbIw",
        "outputId": "f7b32e9d-8ff9-49d8-b1fc-fdfa07013dee"
      },
      "execution_count": 43,
      "outputs": [
        {
          "output_type": "execute_result",
          "data": {
            "text/plain": [
              "array([ 0,  1,  2,  3,  4,  5,  6,  7,  8,  9, 10, 11, 12, 13, 14])"
            ]
          },
          "metadata": {},
          "execution_count": 43
        }
      ]
    },
    {
      "cell_type": "code",
      "source": [
        "np.arange(0,15,3) #here 3 is the step size -- the difference b/w the consequtive o/p"
      ],
      "metadata": {
        "colab": {
          "base_uri": "https://localhost:8080/"
        },
        "id": "saIJvuk2GD5C",
        "outputId": "3d34d91e-e3cb-4745-ad46-11f99747d33c"
      },
      "execution_count": 40,
      "outputs": [
        {
          "output_type": "execute_result",
          "data": {
            "text/plain": [
              "array([ 0,  3,  6,  9, 12])"
            ]
          },
          "metadata": {},
          "execution_count": 40
        }
      ]
    },
    {
      "cell_type": "code",
      "source": [
        "np.linspace(1,10,50) #here 10 will not be exclusive in nature, and 50 indicates the number of o/p we generate between 1-10"
      ],
      "metadata": {
        "colab": {
          "base_uri": "https://localhost:8080/"
        },
        "id": "wzmQTOnSGR7w",
        "outputId": "4d8babee-8b8b-47a2-df29-0f2a86b9a111"
      },
      "execution_count": 41,
      "outputs": [
        {
          "output_type": "execute_result",
          "data": {
            "text/plain": [
              "array([ 1.        ,  1.18367347,  1.36734694,  1.55102041,  1.73469388,\n",
              "        1.91836735,  2.10204082,  2.28571429,  2.46938776,  2.65306122,\n",
              "        2.83673469,  3.02040816,  3.20408163,  3.3877551 ,  3.57142857,\n",
              "        3.75510204,  3.93877551,  4.12244898,  4.30612245,  4.48979592,\n",
              "        4.67346939,  4.85714286,  5.04081633,  5.2244898 ,  5.40816327,\n",
              "        5.59183673,  5.7755102 ,  5.95918367,  6.14285714,  6.32653061,\n",
              "        6.51020408,  6.69387755,  6.87755102,  7.06122449,  7.24489796,\n",
              "        7.42857143,  7.6122449 ,  7.79591837,  7.97959184,  8.16326531,\n",
              "        8.34693878,  8.53061224,  8.71428571,  8.89795918,  9.08163265,\n",
              "        9.26530612,  9.44897959,  9.63265306,  9.81632653, 10.        ])"
            ]
          },
          "metadata": {},
          "execution_count": 41
        }
      ]
    },
    {
      "cell_type": "code",
      "source": [
        "np.linspace(1,10,75)"
      ],
      "metadata": {
        "colab": {
          "base_uri": "https://localhost:8080/"
        },
        "id": "pWj5NFPjG9c7",
        "outputId": "d5816f22-8d82-4d4e-f4a0-bee9ed83db1e"
      },
      "execution_count": 42,
      "outputs": [
        {
          "output_type": "execute_result",
          "data": {
            "text/plain": [
              "array([ 1.        ,  1.12162162,  1.24324324,  1.36486486,  1.48648649,\n",
              "        1.60810811,  1.72972973,  1.85135135,  1.97297297,  2.09459459,\n",
              "        2.21621622,  2.33783784,  2.45945946,  2.58108108,  2.7027027 ,\n",
              "        2.82432432,  2.94594595,  3.06756757,  3.18918919,  3.31081081,\n",
              "        3.43243243,  3.55405405,  3.67567568,  3.7972973 ,  3.91891892,\n",
              "        4.04054054,  4.16216216,  4.28378378,  4.40540541,  4.52702703,\n",
              "        4.64864865,  4.77027027,  4.89189189,  5.01351351,  5.13513514,\n",
              "        5.25675676,  5.37837838,  5.5       ,  5.62162162,  5.74324324,\n",
              "        5.86486486,  5.98648649,  6.10810811,  6.22972973,  6.35135135,\n",
              "        6.47297297,  6.59459459,  6.71621622,  6.83783784,  6.95945946,\n",
              "        7.08108108,  7.2027027 ,  7.32432432,  7.44594595,  7.56756757,\n",
              "        7.68918919,  7.81081081,  7.93243243,  8.05405405,  8.17567568,\n",
              "        8.2972973 ,  8.41891892,  8.54054054,  8.66216216,  8.78378378,\n",
              "        8.90540541,  9.02702703,  9.14864865,  9.27027027,  9.39189189,\n",
              "        9.51351351,  9.63513514,  9.75675676,  9.87837838, 10.        ])"
            ]
          },
          "metadata": {},
          "execution_count": 42
        }
      ]
    },
    {
      "cell_type": "code",
      "source": [
        "np.random.rand(3,4) #here we provide the number of rows and columns and here by default the range is 0-1 (1 being exclusive)"
      ],
      "metadata": {
        "colab": {
          "base_uri": "https://localhost:8080/"
        },
        "id": "-vTQnjbUHEtd",
        "outputId": "c4119c08-78ca-41e2-99f1-dec146e56b49"
      },
      "execution_count": 47,
      "outputs": [
        {
          "output_type": "execute_result",
          "data": {
            "text/plain": [
              "array([[0.96640245, 0.63857382, 0.20159672, 0.19829922],\n",
              "       [0.78975955, 0.084554  , 0.93430879, 0.23957053],\n",
              "       [0.98328259, 0.40956584, 0.2823612 , 0.48513569]])"
            ]
          },
          "metadata": {},
          "execution_count": 47
        }
      ]
    },
    {
      "cell_type": "code",
      "source": [
        "np.random.rand() #between 0-1 we get one random o/p"
      ],
      "metadata": {
        "colab": {
          "base_uri": "https://localhost:8080/"
        },
        "id": "ijRSE6SmJAZC",
        "outputId": "61dfa1e4-8b76-4837-f38c-ce43d7a1f7fd"
      },
      "execution_count": 50,
      "outputs": [
        {
          "output_type": "execute_result",
          "data": {
            "text/plain": [
              "0.08680894542624062"
            ]
          },
          "metadata": {},
          "execution_count": 50
        }
      ]
    },
    {
      "cell_type": "code",
      "source": [
        "np.random.randint(1,20,5) #here range is provided from our side i.e. 1-20 (20 exclusive) and 5 indicates the 5 random o/p"
      ],
      "metadata": {
        "colab": {
          "base_uri": "https://localhost:8080/"
        },
        "id": "rzZP_XBjJABV",
        "outputId": "68c7c4c8-1848-47cb-ab4a-e2f016b048bb"
      },
      "execution_count": 54,
      "outputs": [
        {
          "output_type": "execute_result",
          "data": {
            "text/plain": [
              "array([15, 12,  2, 17, 12])"
            ]
          },
          "metadata": {},
          "execution_count": 54
        }
      ]
    },
    {
      "cell_type": "code",
      "source": [],
      "metadata": {
        "id": "7BztZbttI_93"
      },
      "execution_count": null,
      "outputs": []
    }
  ],
  "metadata": {
    "colab": {
      "provenance": [],
      "authorship_tag": "ABX9TyMiYyZIiRIGD3gAVsYXRiz1",
      "include_colab_link": true
    },
    "kernelspec": {
      "display_name": "Python 3",
      "name": "python3"
    },
    "language_info": {
      "name": "python"
    }
  },
  "nbformat": 4,
  "nbformat_minor": 0
}