{
  "nbformat": 4,
  "nbformat_minor": 0,
  "metadata": {
    "colab": {
      "provenance": [],
      "authorship_tag": "ABX9TyPepWBe2r+NyAQAn+zx8a0d",
      "include_colab_link": true
    },
    "kernelspec": {
      "name": "python3",
      "display_name": "Python 3"
    },
    "language_info": {
      "name": "python"
    }
  },
  "cells": [
    {
      "cell_type": "markdown",
      "metadata": {
        "id": "view-in-github",
        "colab_type": "text"
      },
      "source": [
        "<a href=\"https://colab.research.google.com/github/charlie-aashutosh/IIM-INDORE-Python/blob/main/OOPS.ipynb\" target=\"_parent\"><img src=\"https://colab.research.google.com/assets/colab-badge.svg\" alt=\"Open In Colab\"/></a>"
      ]
    },
    {
      "cell_type": "code",
      "execution_count": 1,
      "metadata": {
        "id": "nlJjlyD421P9"
      },
      "outputs": [],
      "source": [
        "class Person:\n",
        "  name='Aashutosh'\n",
        "  age=99\n",
        "  weight=100\n",
        "\n",
        "per1=Person() #per1 is the object of class Person"
      ]
    },
    {
      "cell_type": "code",
      "source": [
        "print(per1.name)"
      ],
      "metadata": {
        "colab": {
          "base_uri": "https://localhost:8080/"
        },
        "id": "a_JiCYgR4yRb",
        "outputId": "2ce04f68-9b22-46db-9ac3-2b2c7e4d2e20"
      },
      "execution_count": 2,
      "outputs": [
        {
          "output_type": "stream",
          "name": "stdout",
          "text": [
            "Aashutosh\n"
          ]
        }
      ]
    },
    {
      "cell_type": "code",
      "source": [
        "print(per1.weight)"
      ],
      "metadata": {
        "colab": {
          "base_uri": "https://localhost:8080/"
        },
        "id": "dUqSq1NH48rN",
        "outputId": "334ea1eb-fb6a-438e-f2d6-4af78c6fd391"
      },
      "execution_count": 3,
      "outputs": [
        {
          "output_type": "stream",
          "name": "stdout",
          "text": [
            "100\n"
          ]
        }
      ]
    },
    {
      "cell_type": "code",
      "source": [
        "print(per1.age)"
      ],
      "metadata": {
        "colab": {
          "base_uri": "https://localhost:8080/"
        },
        "id": "WffvOS_D5A2C",
        "outputId": "d4f0e9f4-ded6-4e8d-9f18-de376bafccad"
      },
      "execution_count": 4,
      "outputs": [
        {
          "output_type": "stream",
          "name": "stdout",
          "text": [
            "99\n"
          ]
        }
      ]
    },
    {
      "cell_type": "markdown",
      "source": [
        "In OOPS instead of naming it as a function, we call it as a method"
      ],
      "metadata": {
        "id": "zlmzCWnN_SHL"
      }
    },
    {
      "cell_type": "code",
      "source": [
        "class Person:\n",
        "\n",
        "  def __init__(self,name,age,weight): #constructor\n",
        "    self.name=name #initializing the name attribute\n",
        "    self.age=age #initializing the age attribute\n",
        "    self.weight=weight #initializing the weight attribute"
      ],
      "metadata": {
        "id": "LtHwpckg5HNX"
      },
      "execution_count": 5,
      "outputs": []
    },
    {
      "cell_type": "code",
      "source": [
        "p1=Person('John',39,88) #object 1 of class Person"
      ],
      "metadata": {
        "id": "dBJR7TeM6tU_"
      },
      "execution_count": 6,
      "outputs": []
    },
    {
      "cell_type": "code",
      "source": [
        "print(p1.name)"
      ],
      "metadata": {
        "colab": {
          "base_uri": "https://localhost:8080/"
        },
        "id": "dAznlyrk64KH",
        "outputId": "88ec0b9b-1cb9-42c6-807a-afdd0ce7823f"
      },
      "execution_count": 7,
      "outputs": [
        {
          "output_type": "stream",
          "name": "stdout",
          "text": [
            "John\n"
          ]
        }
      ]
    },
    {
      "cell_type": "code",
      "source": [
        "print(p1.weight)"
      ],
      "metadata": {
        "colab": {
          "base_uri": "https://localhost:8080/"
        },
        "id": "U0mcAn4X68ke",
        "outputId": "047b2ab1-ad73-4337-d5e5-10bfc9295d70"
      },
      "execution_count": 8,
      "outputs": [
        {
          "output_type": "stream",
          "name": "stdout",
          "text": [
            "88\n"
          ]
        }
      ]
    },
    {
      "cell_type": "code",
      "source": [
        "p2=Person('Chirag',56,90) #object 2 of class Person"
      ],
      "metadata": {
        "id": "hcNqtzZ86-9p"
      },
      "execution_count": 9,
      "outputs": []
    },
    {
      "cell_type": "code",
      "source": [
        "print(p2.weight)"
      ],
      "metadata": {
        "colab": {
          "base_uri": "https://localhost:8080/"
        },
        "id": "JMiRiWxZ7MMz",
        "outputId": "cf318104-c2af-4196-ba0d-78bb9511ad49"
      },
      "execution_count": 10,
      "outputs": [
        {
          "output_type": "stream",
          "name": "stdout",
          "text": [
            "90\n"
          ]
        }
      ]
    },
    {
      "cell_type": "code",
      "source": [
        "print(p2.name)"
      ],
      "metadata": {
        "colab": {
          "base_uri": "https://localhost:8080/"
        },
        "id": "xltKU0W27PDu",
        "outputId": "7666ef71-e742-444b-d44a-0c0e258b958b"
      },
      "execution_count": 11,
      "outputs": [
        {
          "output_type": "stream",
          "name": "stdout",
          "text": [
            "Chirag\n"
          ]
        }
      ]
    },
    {
      "cell_type": "code",
      "source": [
        "class Person:\n",
        "\n",
        "  def __init__(self,name,age=99,hobby='Cricket'): #constructor\n",
        "    self.name=name #initializing the name attribute\n",
        "    self.age=age #initializing the age attribute\n",
        "    self.hobby=hobby #initializing the hobby attribute"
      ],
      "metadata": {
        "id": "g3QoNw9q7Q1T"
      },
      "execution_count": 12,
      "outputs": []
    },
    {
      "cell_type": "code",
      "source": [
        "p1=Person(\"Aashutosh\",98,'Basketball')"
      ],
      "metadata": {
        "id": "47MZpD5F_1Ga"
      },
      "execution_count": 13,
      "outputs": []
    },
    {
      "cell_type": "code",
      "source": [
        "print(p1.hobby)"
      ],
      "metadata": {
        "colab": {
          "base_uri": "https://localhost:8080/"
        },
        "id": "Ur25e9XW_-9i",
        "outputId": "c2e4a592-248a-469d-d406-fec02f405090"
      },
      "execution_count": 14,
      "outputs": [
        {
          "output_type": "stream",
          "name": "stdout",
          "text": [
            "Basketball\n"
          ]
        }
      ]
    },
    {
      "cell_type": "code",
      "source": [
        "p2=Person(\"Catherine\")"
      ],
      "metadata": {
        "id": "Mi5ZBi0iABGy"
      },
      "execution_count": 15,
      "outputs": []
    },
    {
      "cell_type": "code",
      "source": [
        "print(p2.age)"
      ],
      "metadata": {
        "colab": {
          "base_uri": "https://localhost:8080/"
        },
        "id": "dK0VZ58fATdb",
        "outputId": "8308ee53-e5b9-4722-c2b1-03877d43224e"
      },
      "execution_count": 16,
      "outputs": [
        {
          "output_type": "stream",
          "name": "stdout",
          "text": [
            "99\n"
          ]
        }
      ]
    },
    {
      "cell_type": "code",
      "source": [
        "print(p2.hobby)"
      ],
      "metadata": {
        "colab": {
          "base_uri": "https://localhost:8080/"
        },
        "id": "WuQj_hGxAWp0",
        "outputId": "638715da-57e7-411a-f685-16964a1df3fd"
      },
      "execution_count": 17,
      "outputs": [
        {
          "output_type": "stream",
          "name": "stdout",
          "text": [
            "Cricket\n"
          ]
        }
      ]
    },
    {
      "cell_type": "code",
      "source": [
        "p3=Person(\"Charlie\",32)"
      ],
      "metadata": {
        "id": "-NuQofScAeoL"
      },
      "execution_count": 18,
      "outputs": []
    },
    {
      "cell_type": "code",
      "source": [
        "print(p3.age)"
      ],
      "metadata": {
        "colab": {
          "base_uri": "https://localhost:8080/"
        },
        "id": "8TD8FyJ-AsvI",
        "outputId": "2e767927-0b41-4bd9-877b-524c221045ef"
      },
      "execution_count": 19,
      "outputs": [
        {
          "output_type": "stream",
          "name": "stdout",
          "text": [
            "32\n"
          ]
        }
      ]
    },
    {
      "cell_type": "code",
      "source": [
        "print(p3.hobby)"
      ],
      "metadata": {
        "colab": {
          "base_uri": "https://localhost:8080/"
        },
        "id": "XzJfVnjyAvGU",
        "outputId": "2ebb9e17-0b01-4344-9c08-a85a2ac77657"
      },
      "execution_count": 20,
      "outputs": [
        {
          "output_type": "stream",
          "name": "stdout",
          "text": [
            "Cricket\n"
          ]
        }
      ]
    },
    {
      "cell_type": "markdown",
      "source": [
        "Important pillars in OOPS\n",
        "\n",
        "1. Inheritance\n",
        "\n",
        "2. Polymorphism\n",
        "\n",
        "3. Abstraction\n",
        "\n",
        "4. Encapsulation"
      ],
      "metadata": {
        "id": "F3e_m2A5B5kT"
      }
    },
    {
      "cell_type": "markdown",
      "source": [
        "Inheritance\n",
        "\n",
        "1. Simple inheritance\n",
        "\n",
        "2. Multilevel inheritance\n",
        "\n",
        "3. Multiple inheritance\n",
        "\n",
        "4. Hybrid inheritance"
      ],
      "metadata": {
        "id": "4kzLV9lBCDvP"
      }
    },
    {
      "cell_type": "code",
      "source": [
        "#simple inheritance\n",
        "class Animal: #parent class\n",
        "\n",
        "  def __init__(self,name):\n",
        "    self.name=name\n",
        "\n",
        "  def eat(self):\n",
        "    print(self.name+\"animal is eating\")\n",
        "\n",
        "class Dog(Animal): #child class\n",
        "\n",
        "  def __init__(self,name,breed):\n",
        "    Animal.__init__(self,name)\n",
        "    self.breed=breed"
      ],
      "metadata": {
        "id": "ClDpRlZTBzFA"
      },
      "execution_count": 21,
      "outputs": []
    },
    {
      "cell_type": "code",
      "source": [
        "doggie=Dog('Spike','Dobberman') #doggie is an object of child class Dog (having parent class as Animal)"
      ],
      "metadata": {
        "id": "sEBbx10iBzBa"
      },
      "execution_count": 22,
      "outputs": []
    },
    {
      "cell_type": "code",
      "source": [
        "doggie.eat()"
      ],
      "metadata": {
        "colab": {
          "base_uri": "https://localhost:8080/"
        },
        "id": "tM3EBAvXBy-j",
        "outputId": "9eb72c3e-e856-4f93-ac02-2c7dc4fde4e0"
      },
      "execution_count": 23,
      "outputs": [
        {
          "output_type": "stream",
          "name": "stdout",
          "text": [
            "Spikeanimal is eating\n"
          ]
        }
      ]
    },
    {
      "cell_type": "code",
      "source": [
        "print(doggie.breed)"
      ],
      "metadata": {
        "colab": {
          "base_uri": "https://localhost:8080/"
        },
        "id": "okuKcXKVBy78",
        "outputId": "71e11866-0f38-4817-e86c-59e18f178696"
      },
      "execution_count": 24,
      "outputs": [
        {
          "output_type": "stream",
          "name": "stdout",
          "text": [
            "Dobberman\n"
          ]
        }
      ]
    },
    {
      "cell_type": "code",
      "source": [
        "#multi level inheritance\n",
        "\n",
        "class Animal: #parent class\n",
        "\n",
        "  def __init__(self,name):\n",
        "    self.name=name\n",
        "\n",
        "  def eat(self):\n",
        "    print(self.name+\"animal is eating\")\n",
        "\n",
        "class Dog(Animal): #child class of Animal parent class\n",
        "\n",
        "  def __init__(self,name,breed):\n",
        "    Animal.__init__(self,name)\n",
        "    self.breed=breed\n",
        "\n",
        "class Pet(Dog): #child class of Dog parent class\n",
        "  def __init__(self,name,breed,ownername):\n",
        "    super().__init__(name,breed)\n",
        "    self.ownername=ownername"
      ],
      "metadata": {
        "id": "O0IkX2shBy5v"
      },
      "execution_count": 25,
      "outputs": []
    },
    {
      "cell_type": "code",
      "source": [
        "p1=Pet('Spike','Dobberman','Aashutosh')"
      ],
      "metadata": {
        "id": "0phwHZPkBy2_"
      },
      "execution_count": 27,
      "outputs": []
    },
    {
      "cell_type": "code",
      "source": [
        "print(p1.ownername)"
      ],
      "metadata": {
        "id": "L9CYDxChA0jO",
        "colab": {
          "base_uri": "https://localhost:8080/"
        },
        "outputId": "db4f107d-807f-4c6c-ab45-ad1e4eecd2ea"
      },
      "execution_count": 28,
      "outputs": [
        {
          "output_type": "stream",
          "name": "stdout",
          "text": [
            "Aashutosh\n"
          ]
        }
      ]
    },
    {
      "cell_type": "code",
      "source": [
        "print(p1.breed)"
      ],
      "metadata": {
        "colab": {
          "base_uri": "https://localhost:8080/"
        },
        "id": "eVMfU6hkJ98C",
        "outputId": "7faac2ad-e78e-4765-a99c-287ee7c55e2d"
      },
      "execution_count": 29,
      "outputs": [
        {
          "output_type": "stream",
          "name": "stdout",
          "text": [
            "Dobberman\n"
          ]
        }
      ]
    },
    {
      "cell_type": "code",
      "source": [
        "#multiple inheritance\n",
        "class A:\n",
        "  def meth1(self):\n",
        "    print(\"Hello from A\")\n",
        "\n",
        "class B:\n",
        "  def meth1(self):\n",
        "    print(\"Hello from B\")\n",
        "\n",
        "class C(A,B):\n",
        "  def meth(self):\n",
        "    print(\"Hello from Child\")"
      ],
      "metadata": {
        "id": "xcv015O5J94p"
      },
      "execution_count": 40,
      "outputs": []
    },
    {
      "cell_type": "code",
      "source": [
        "c=C()"
      ],
      "metadata": {
        "id": "SADTh3zgJ92N"
      },
      "execution_count": 41,
      "outputs": []
    },
    {
      "cell_type": "code",
      "source": [
        "c.meth()"
      ],
      "metadata": {
        "colab": {
          "base_uri": "https://localhost:8080/"
        },
        "id": "Xcy5kbNIJ9z6",
        "outputId": "d56a1e53-454d-4c84-87b7-320adb594a4e"
      },
      "execution_count": 32,
      "outputs": [
        {
          "output_type": "stream",
          "name": "stdout",
          "text": [
            "Hello from Child\n"
          ]
        }
      ]
    },
    {
      "cell_type": "code",
      "source": [
        "c.meth1()"
      ],
      "metadata": {
        "colab": {
          "base_uri": "https://localhost:8080/"
        },
        "id": "kQr9FHaWO-ia",
        "outputId": "ee51287c-5dcb-4e9a-9dc8-280226efa9d6"
      },
      "execution_count": 42,
      "outputs": [
        {
          "output_type": "stream",
          "name": "stdout",
          "text": [
            "Hello from A\n"
          ]
        }
      ]
    },
    {
      "cell_type": "code",
      "source": [
        "print(C.__mro__)"
      ],
      "metadata": {
        "colab": {
          "base_uri": "https://localhost:8080/"
        },
        "id": "KHmq14alQcE4",
        "outputId": "761405c1-71d5-4f2e-c647-03b77c77c2ea"
      },
      "execution_count": 39,
      "outputs": [
        {
          "output_type": "stream",
          "name": "stdout",
          "text": [
            "(<class '__main__.C'>, <class '__main__.A'>, <class '__main__.B'>, <class 'object'>)\n"
          ]
        }
      ]
    },
    {
      "cell_type": "code",
      "source": [
        "#MRO -- Method Resolution Order"
      ],
      "metadata": {
        "id": "87E8SXitPdNt"
      },
      "execution_count": null,
      "outputs": []
    },
    {
      "cell_type": "code",
      "source": [],
      "metadata": {
        "id": "hGwEhEspQ45z"
      },
      "execution_count": null,
      "outputs": []
    },
    {
      "cell_type": "code",
      "source": [],
      "metadata": {
        "id": "XkYNIp-aQ42O"
      },
      "execution_count": null,
      "outputs": []
    },
    {
      "cell_type": "code",
      "source": [],
      "metadata": {
        "id": "bLj4jyXEQ4zx"
      },
      "execution_count": null,
      "outputs": []
    }
  ]
}