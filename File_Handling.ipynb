{
  "nbformat": 4,
  "nbformat_minor": 0,
  "metadata": {
    "colab": {
      "provenance": [],
      "authorship_tag": "ABX9TyPZC7q/ISxQCxDoSJc28P/1",
      "include_colab_link": true
    },
    "kernelspec": {
      "name": "python3",
      "display_name": "Python 3"
    },
    "language_info": {
      "name": "python"
    }
  },
  "cells": [
    {
      "cell_type": "markdown",
      "metadata": {
        "id": "view-in-github",
        "colab_type": "text"
      },
      "source": [
        "<a href=\"https://colab.research.google.com/github/charlie-aashutosh/IIM-INDORE-Python/blob/main/File_Handling.ipynb\" target=\"_parent\"><img src=\"https://colab.research.google.com/assets/colab-badge.svg\" alt=\"Open In Colab\"/></a>"
      ]
    },
    {
      "cell_type": "markdown",
      "source": [
        "File handling\n",
        "\n",
        "1. Opening a file\n",
        "\n",
        "2. Creating a file\n",
        "\n",
        "3. Delete a file"
      ],
      "metadata": {
        "id": "TI6wCflsZJG5"
      }
    },
    {
      "cell_type": "code",
      "execution_count": null,
      "metadata": {
        "id": "c035DfbHZAFY"
      },
      "outputs": [],
      "source": [
        "file=open(\"/content/Prompts.txt\",\"r\") #r represents read mode"
      ]
    },
    {
      "cell_type": "code",
      "source": [
        "for line in file:\n",
        "  print(line)"
      ],
      "metadata": {
        "colab": {
          "base_uri": "https://localhost:8080/"
        },
        "id": "js8FoPWmZx-M",
        "outputId": "5f7c8754-4416-4f2c-b7a0-fef09a0df28a"
      },
      "execution_count": null,
      "outputs": [
        {
          "output_type": "stream",
          "name": "stdout",
          "text": [
            "For ChatGPT - Education\n",
            "\n",
            "Create a solve a question on Ztest from Hypothesis Testing and explain each step that you perform\n",
            "\n",
            "Generate 10 MCQs with solutions on the topic \"Rectilinear propagation of Light\" from Physics for students of class 9\n",
            "\n",
            "---------------------------------------------------------------------------------------------------------------------------------------------------\n",
            "\n",
            "For ChatGPT - Healthcare \n",
            "\n",
            "Can you create a customized diet plan for an individual of 29 years of age and 85 kgs weight\n",
            "\n",
            "\n",
            "\n",
            "Height is 6'0\" and gender is male \n",
            "\n",
            "\n",
            "\n",
            "What eating habits should one integrate in life if suffering from diabetes\n",
            "\n",
            "\n",
            "\n",
            "I am having the following symptoms please check what could be boothering me a persistent high temperature that gradually increases each day.\n",
            "\n",
            "a headache.\n",
            "\n",
            "general aches and pains.\n",
            "\n",
            "extreme tiredness (fatigue)\n",
            "\n",
            "a cough.\n",
            "\n",
            "constipation.\n",
            "\n",
            "---------------------------------------------------------------------------------------------------------------------------------------------------\n",
            "\n",
            "For ChatGPT - Creative content writing \n",
            "\n",
            "Write an essay of 150 words on the topic : \"as you sow so shall you reap\"\n",
            "\n",
            "Write a story about a brave adventurer who sets out to explore a mysterious unchartered island and discovers hidden secrets within\n",
            "\n",
            "---------------------------------------------------------------------------------------------------------------------------------------------------\n",
            "\n",
            "For ChatGPT - Marketing and Sales\n",
            "\n",
            "Create a small but engaging product description of Taj Mahal Tea from India for promotional and marketing purposes \n",
            "\n",
            "\n",
            "\n",
            "For Gemini - Marketing and Sales\n",
            "\n",
            "Can you help me in writing an engaging product description about this Superbike in less than 100 words\n",
            "\n",
            "---------------------------------------------------------------------------------------------------------------------------------------------------\n",
            "\n",
            "For Gemini - Banking and Finance \n",
            "\n",
            "I'm looking for ways to use technology to improve the customer experience when it comes to opening a bank account for low-income households.\n",
            "\n",
            "I'm looking for ways to simplify and streamline the process of loan processing for small businesses.'\n",
            "\n",
            "---------------------------------------------------------------------------------------------------------------------------------------------------\n",
            "\n",
            "For DALL-E - Art Design and Creativity \n",
            "\n",
            "Can you create a picture of an astronaut chilling on a beach\n",
            "\n",
            "Change the astronaut suit colour to pink\n",
            "\n",
            "---------------------------------------------------------------------------------------------------------------------------------------------------\n",
            "\n",
            "For PeopleGPT - Human Resource \n",
            "\n",
            "---------------------------------------------------------------------------------------------------------------------------------------------------\n"
          ]
        }
      ]
    },
    {
      "cell_type": "code",
      "source": [
        "with open(\"/content/Prompts.txt\",\"r\") as file:\n",
        "  data=file.read()\n",
        "  print(data)"
      ],
      "metadata": {
        "colab": {
          "base_uri": "https://localhost:8080/"
        },
        "id": "Ruwftm-paCFN",
        "outputId": "b39e21f3-eb65-44e9-beff-293baa4af7b2"
      },
      "execution_count": null,
      "outputs": [
        {
          "output_type": "stream",
          "name": "stdout",
          "text": [
            "For ChatGPT - Education\n",
            "Create a solve a question on Ztest from Hypothesis Testing and explain each step that you perform\n",
            "Generate 10 MCQs with solutions on the topic \"Rectilinear propagation of Light\" from Physics for students of class 9\n",
            "---------------------------------------------------------------------------------------------------------------------------------------------------\n",
            "For ChatGPT - Healthcare \n",
            "Can you create a customized diet plan for an individual of 29 years of age and 85 kgs weight\n",
            "\n",
            "Height is 6'0\" and gender is male \n",
            "\n",
            "What eating habits should one integrate in life if suffering from diabetes\n",
            "\n",
            "I am having the following symptoms please check what could be boothering me a persistent high temperature that gradually increases each day.\n",
            "a headache.\n",
            "general aches and pains.\n",
            "extreme tiredness (fatigue)\n",
            "a cough.\n",
            "constipation.\n",
            "---------------------------------------------------------------------------------------------------------------------------------------------------\n",
            "For ChatGPT - Creative content writing \n",
            "Write an essay of 150 words on the topic : \"as you sow so shall you reap\"\n",
            "Write a story about a brave adventurer who sets out to explore a mysterious unchartered island and discovers hidden secrets within\n",
            "---------------------------------------------------------------------------------------------------------------------------------------------------\n",
            "For ChatGPT - Marketing and Sales\n",
            "Create a small but engaging product description of Taj Mahal Tea from India for promotional and marketing purposes \n",
            "\n",
            "For Gemini - Marketing and Sales\n",
            "Can you help me in writing an engaging product description about this Superbike in less than 100 words\n",
            "---------------------------------------------------------------------------------------------------------------------------------------------------\n",
            "For Gemini - Banking and Finance \n",
            "I'm looking for ways to use technology to improve the customer experience when it comes to opening a bank account for low-income households.\n",
            "I'm looking for ways to simplify and streamline the process of loan processing for small businesses.'\n",
            "---------------------------------------------------------------------------------------------------------------------------------------------------\n",
            "For DALL-E - Art Design and Creativity \n",
            "Can you create a picture of an astronaut chilling on a beach\n",
            "Change the astronaut suit colour to pink\n",
            "---------------------------------------------------------------------------------------------------------------------------------------------------\n",
            "For PeopleGPT - Human Resource \n",
            "---------------------------------------------------------------------------------------------------------------------------------------------------\n"
          ]
        }
      ]
    },
    {
      "cell_type": "code",
      "source": [
        "with open(\"/content/Prompts.txt\",\"r\") as file:\n",
        "  data=file.read(120) #number of alphabets(including spaces)\n",
        "  print(data)"
      ],
      "metadata": {
        "colab": {
          "base_uri": "https://localhost:8080/"
        },
        "id": "Ed157fvKaWvn",
        "outputId": "1196fb50-4af8-46b5-f595-0ac369bef9c1"
      },
      "execution_count": null,
      "outputs": [
        {
          "output_type": "stream",
          "name": "stdout",
          "text": [
            "For ChatGPT - Education\n",
            "Create a solve a question on Ztest from Hypothesis Testing and explain each step that you perfor\n"
          ]
        }
      ]
    },
    {
      "cell_type": "code",
      "source": [
        "my_file=open(\"my_file.txt\",\"w\") #w represents write mode"
      ],
      "metadata": {
        "id": "yhxNiiJfbxBs"
      },
      "execution_count": null,
      "outputs": []
    },
    {
      "cell_type": "code",
      "source": [
        "my_file.write(\"Good evening how are you all\")"
      ],
      "metadata": {
        "colab": {
          "base_uri": "https://localhost:8080/"
        },
        "id": "VH6ZOd4tcWu4",
        "outputId": "bcbe4f91-52cc-4e09-ebef-87741683aa2a"
      },
      "execution_count": null,
      "outputs": [
        {
          "output_type": "execute_result",
          "data": {
            "text/plain": [
              "28"
            ]
          },
          "metadata": {},
          "execution_count": 8
        }
      ]
    },
    {
      "cell_type": "code",
      "source": [
        "my_file.write(\"Take care, good night\")"
      ],
      "metadata": {
        "colab": {
          "base_uri": "https://localhost:8080/"
        },
        "id": "ezOM0-HLcegO",
        "outputId": "9ecaced7-ffee-404b-c067-378a1f8208ed"
      },
      "execution_count": null,
      "outputs": [
        {
          "output_type": "execute_result",
          "data": {
            "text/plain": [
              "21"
            ]
          },
          "metadata": {},
          "execution_count": 9
        }
      ]
    },
    {
      "cell_type": "code",
      "source": [
        "my_file.close()"
      ],
      "metadata": {
        "id": "Jd8el_1Sdh27"
      },
      "execution_count": 14,
      "outputs": []
    },
    {
      "cell_type": "code",
      "source": [
        "new_file=open(\"/content/my_file.txt\",\"r\")"
      ],
      "metadata": {
        "id": "-fexSLWmcwij"
      },
      "execution_count": 15,
      "outputs": []
    },
    {
      "cell_type": "code",
      "source": [
        "for line in new_file:\n",
        "  print(line)"
      ],
      "metadata": {
        "id": "ZsRu4wCDckU1",
        "colab": {
          "base_uri": "https://localhost:8080/"
        },
        "outputId": "ed3b9d16-012e-414f-cea5-27e9e9824132"
      },
      "execution_count": 16,
      "outputs": [
        {
          "output_type": "stream",
          "name": "stdout",
          "text": [
            "Good evening how are you allTake care, good night\n"
          ]
        }
      ]
    },
    {
      "cell_type": "code",
      "source": [
        "with open(\"/content/my_file.txt\",\"r\") as file:\n",
        "  data=file.read(12)\n",
        "  print(data)"
      ],
      "metadata": {
        "id": "vhHg4ofHctdc",
        "colab": {
          "base_uri": "https://localhost:8080/"
        },
        "outputId": "8c6764a2-92eb-4eff-cc29-7a894d075511"
      },
      "execution_count": 17,
      "outputs": [
        {
          "output_type": "stream",
          "name": "stdout",
          "text": [
            "Good evening\n"
          ]
        }
      ]
    },
    {
      "cell_type": "code",
      "source": [
        "import os"
      ],
      "metadata": {
        "id": "rG3d7zQ4eB6T"
      },
      "execution_count": 18,
      "outputs": []
    },
    {
      "cell_type": "code",
      "source": [
        "os.remove(\"/content/my_file.txt\")"
      ],
      "metadata": {
        "id": "WTo78o0Igxcd"
      },
      "execution_count": 19,
      "outputs": []
    },
    {
      "cell_type": "code",
      "source": [
        "os.remove(\"/content/Prompts.txt\")"
      ],
      "metadata": {
        "id": "CS3c2L9bg7Ii"
      },
      "execution_count": 20,
      "outputs": []
    },
    {
      "cell_type": "code",
      "source": [],
      "metadata": {
        "id": "WlXH7uVBhCPs"
      },
      "execution_count": null,
      "outputs": []
    }
  ]
}