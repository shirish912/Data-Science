{
  "nbformat": 4,
  "nbformat_minor": 0,
  "metadata": {
    "colab": {
      "provenance": [],
      "authorship_tag": "ABX9TyPy+2CR/yHUQPwvIwbd0J5w",
      "include_colab_link": true
    },
    "kernelspec": {
      "name": "python3",
      "display_name": "Python 3"
    },
    "language_info": {
      "name": "python"
    }
  },
  "cells": [
    {
      "cell_type": "markdown",
      "metadata": {
        "id": "view-in-github",
        "colab_type": "text"
      },
      "source": [
        "<a href=\"https://colab.research.google.com/github/charlie-aashutosh/IIM-INDORE-Python/blob/main/Functions.ipynb\" target=\"_parent\"><img src=\"https://colab.research.google.com/assets/colab-badge.svg\" alt=\"Open In Colab\"/></a>"
      ]
    },
    {
      "cell_type": "markdown",
      "source": [
        "Create a simple function which is not having any parameters"
      ],
      "metadata": {
        "id": "7qoRTC2xO8xH"
      }
    },
    {
      "cell_type": "code",
      "source": [
        "def simple():\n",
        "  print(\"Hello I am Simple, I do nothing\")"
      ],
      "metadata": {
        "id": "U4ukpdnlO8aQ"
      },
      "execution_count": 11,
      "outputs": []
    },
    {
      "cell_type": "code",
      "source": [
        "simple()"
      ],
      "metadata": {
        "colab": {
          "base_uri": "https://localhost:8080/"
        },
        "id": "h6zP5kUePJPf",
        "outputId": "18a8b588-5fee-41d0-ab8c-cd31da798882"
      },
      "execution_count": 12,
      "outputs": [
        {
          "output_type": "stream",
          "name": "stdout",
          "text": [
            "Hello I am Simple, I do nothing\n"
          ]
        }
      ]
    },
    {
      "cell_type": "markdown",
      "source": [
        "Create a function which adds two numbers"
      ],
      "metadata": {
        "id": "c9p9NUKZNZj7"
      }
    },
    {
      "cell_type": "code",
      "execution_count": 1,
      "metadata": {
        "id": "3sfbfGXfJSrd"
      },
      "outputs": [],
      "source": [
        "def add(a,b):\n",
        "  sum=a+b\n",
        "  return sum"
      ]
    },
    {
      "cell_type": "code",
      "source": [
        "add(5,7)"
      ],
      "metadata": {
        "colab": {
          "base_uri": "https://localhost:8080/"
        },
        "id": "3kvi-Xx1Nh6j",
        "outputId": "b4345d70-2b9d-4003-8d1a-9dd317121154"
      },
      "execution_count": 2,
      "outputs": [
        {
          "output_type": "execute_result",
          "data": {
            "text/plain": [
              "12"
            ]
          },
          "metadata": {},
          "execution_count": 2
        }
      ]
    },
    {
      "cell_type": "code",
      "source": [
        "add(7,45)"
      ],
      "metadata": {
        "colab": {
          "base_uri": "https://localhost:8080/"
        },
        "id": "Wdgav0nDNkMg",
        "outputId": "b2701917-b148-49ef-8a85-c8d41db15d2e"
      },
      "execution_count": 3,
      "outputs": [
        {
          "output_type": "execute_result",
          "data": {
            "text/plain": [
              "52"
            ]
          },
          "metadata": {},
          "execution_count": 3
        }
      ]
    },
    {
      "cell_type": "code",
      "source": [
        "add(-11,56)"
      ],
      "metadata": {
        "colab": {
          "base_uri": "https://localhost:8080/"
        },
        "id": "XY2joYgoNla8",
        "outputId": "05f6ebfb-d5e8-4c83-c291-ddccf2bdea8c"
      },
      "execution_count": 4,
      "outputs": [
        {
          "output_type": "execute_result",
          "data": {
            "text/plain": [
              "45"
            ]
          },
          "metadata": {},
          "execution_count": 4
        }
      ]
    },
    {
      "cell_type": "code",
      "source": [
        "def add_three(a,b,c):\n",
        "  sum=a+b+c\n",
        "  return sum"
      ],
      "metadata": {
        "id": "EVI_tr2rNmub"
      },
      "execution_count": 5,
      "outputs": []
    },
    {
      "cell_type": "code",
      "source": [
        "add_three(2,3,4)"
      ],
      "metadata": {
        "colab": {
          "base_uri": "https://localhost:8080/"
        },
        "id": "-4oxZMrLN20y",
        "outputId": "230f4a60-b4ea-4c76-a0ce-bfea412ef7d5"
      },
      "execution_count": 6,
      "outputs": [
        {
          "output_type": "execute_result",
          "data": {
            "text/plain": [
              "9"
            ]
          },
          "metadata": {},
          "execution_count": 6
        }
      ]
    },
    {
      "cell_type": "code",
      "source": [
        "add_three(2,3,-11)"
      ],
      "metadata": {
        "colab": {
          "base_uri": "https://localhost:8080/"
        },
        "id": "yvEMMFsWN5TL",
        "outputId": "d6897fd2-257b-49b3-8df3-14ae3b2e4cd9"
      },
      "execution_count": 8,
      "outputs": [
        {
          "output_type": "execute_result",
          "data": {
            "text/plain": [
              "-6"
            ]
          },
          "metadata": {},
          "execution_count": 8
        }
      ]
    },
    {
      "cell_type": "markdown",
      "source": [
        "Create a function which adds, subtracts, multiplies and divides two numbers"
      ],
      "metadata": {
        "id": "Ws1fQjCxONK3"
      }
    },
    {
      "cell_type": "code",
      "source": [
        "def calculate(a,b):\n",
        "  p=a+b\n",
        "  q=a-b\n",
        "  r=a*b\n",
        "  s=a/b\n",
        "\n",
        "  return p,q,r,s"
      ],
      "metadata": {
        "id": "tGdUwtf3N707"
      },
      "execution_count": 9,
      "outputs": []
    },
    {
      "cell_type": "code",
      "source": [
        "calculate(12,6)"
      ],
      "metadata": {
        "colab": {
          "base_uri": "https://localhost:8080/"
        },
        "id": "F2lObS-4Oiv6",
        "outputId": "5bd0dab5-3c69-44bd-f68e-4b0487d32329"
      },
      "execution_count": 10,
      "outputs": [
        {
          "output_type": "execute_result",
          "data": {
            "text/plain": [
              "(18, 6, 72, 2.0)"
            ]
          },
          "metadata": {},
          "execution_count": 10
        }
      ]
    },
    {
      "cell_type": "code",
      "source": [
        "#Global and Local scope\n",
        "\n",
        "x=101 #global scope\n",
        "\n",
        "def func():\n",
        "  x=102 #local scope\n",
        "  print(x)"
      ],
      "metadata": {
        "id": "Cfpgp6ldOmMP"
      },
      "execution_count": 13,
      "outputs": []
    },
    {
      "cell_type": "code",
      "source": [
        "func()\n",
        "print(x)"
      ],
      "metadata": {
        "colab": {
          "base_uri": "https://localhost:8080/"
        },
        "id": "TlHpgj2cRiDv",
        "outputId": "2cfadbe5-37eb-40e4-f3c8-8d4efb15ec5c"
      },
      "execution_count": 15,
      "outputs": [
        {
          "output_type": "stream",
          "name": "stdout",
          "text": [
            "102\n",
            "101\n"
          ]
        }
      ]
    },
    {
      "cell_type": "markdown",
      "source": [
        "Types of Arguments\n",
        "\n",
        "1. Default arguments\n",
        "\n",
        "2. Positional arguments\n",
        "\n",
        "3. Keywords arguments\n",
        "\n",
        "4. Arbitrary arguments (*args)\n",
        "\n",
        "5. Arbitrary keyword arguments (**kwargs)"
      ],
      "metadata": {
        "id": "kIDfCRaKSYOu"
      }
    },
    {
      "cell_type": "code",
      "source": [
        "#default arguments\n",
        "def greet(name,message='Good day, take care'):\n",
        "  print(name,message)"
      ],
      "metadata": {
        "id": "em2_-YIDSZ0X"
      },
      "execution_count": 21,
      "outputs": []
    },
    {
      "cell_type": "code",
      "source": [
        "greet(\"Aashutosh\",\"Good afternoon\")"
      ],
      "metadata": {
        "colab": {
          "base_uri": "https://localhost:8080/"
        },
        "id": "wO2S9hS6TUGX",
        "outputId": "69f98ece-f030-44b0-b9f5-ecdff3077fd5"
      },
      "execution_count": 22,
      "outputs": [
        {
          "output_type": "stream",
          "name": "stdout",
          "text": [
            "Aashutosh Good afternoon\n"
          ]
        }
      ]
    },
    {
      "cell_type": "code",
      "source": [
        "greet(\"Meera\",)"
      ],
      "metadata": {
        "colab": {
          "base_uri": "https://localhost:8080/"
        },
        "id": "HJhBppxDTXln",
        "outputId": "a8ca5ae1-2e05-4cf5-f54c-a42969accd0d"
      },
      "execution_count": 23,
      "outputs": [
        {
          "output_type": "stream",
          "name": "stdout",
          "text": [
            "Meera Good day, take care\n"
          ]
        }
      ]
    },
    {
      "cell_type": "code",
      "source": [
        "greet(\"Meera\",\"Goodevening, how are you?\")"
      ],
      "metadata": {
        "colab": {
          "base_uri": "https://localhost:8080/"
        },
        "id": "LccE_HtYT8fP",
        "outputId": "2d2d8a56-03dc-44a6-d74f-f5920e814f31"
      },
      "execution_count": 24,
      "outputs": [
        {
          "output_type": "stream",
          "name": "stdout",
          "text": [
            "Meera Goodevening, how are you?\n"
          ]
        }
      ]
    },
    {
      "cell_type": "markdown",
      "source": [
        "Create a function which takes name and salary as input from the user and incase the salary is not provided, use default salary as 25000"
      ],
      "metadata": {
        "id": "859k7DFfT5L9"
      }
    },
    {
      "cell_type": "code",
      "source": [
        "def data(name,salary=25000):\n",
        "  print(\"Hi\",name,\"your salary is\",salary)"
      ],
      "metadata": {
        "id": "VQa42PDaTpKT"
      },
      "execution_count": 31,
      "outputs": []
    },
    {
      "cell_type": "code",
      "source": [
        "data(\"George\",35000)"
      ],
      "metadata": {
        "colab": {
          "base_uri": "https://localhost:8080/"
        },
        "id": "TIjyjpwkVEeD",
        "outputId": "d1310488-4f29-48a6-9b08-50d090f47c72"
      },
      "execution_count": 32,
      "outputs": [
        {
          "output_type": "stream",
          "name": "stdout",
          "text": [
            "Hi George your salary is 35000\n"
          ]
        }
      ]
    },
    {
      "cell_type": "code",
      "source": [
        "data(\"John\",70000)"
      ],
      "metadata": {
        "colab": {
          "base_uri": "https://localhost:8080/"
        },
        "id": "E4H7MjzcVH2B",
        "outputId": "89b370fb-6750-46f3-ff24-6fe1b675ed40"
      },
      "execution_count": 33,
      "outputs": [
        {
          "output_type": "stream",
          "name": "stdout",
          "text": [
            "Hi John your salary is 70000\n"
          ]
        }
      ]
    },
    {
      "cell_type": "code",
      "source": [
        "data(\"Meera\",)"
      ],
      "metadata": {
        "colab": {
          "base_uri": "https://localhost:8080/"
        },
        "id": "WPVwPqaYVTGo",
        "outputId": "4cb7aae7-4684-469a-a2e8-3bc08e16e51c"
      },
      "execution_count": 34,
      "outputs": [
        {
          "output_type": "stream",
          "name": "stdout",
          "text": [
            "Hi Meera your salary is 25000\n"
          ]
        }
      ]
    },
    {
      "cell_type": "code",
      "source": [
        "#positional arguments\n",
        "def add_numbers(x,y):\n",
        "  print(\"x\",x)\n",
        "  print(\"y\",y)\n",
        "  print(x+y)"
      ],
      "metadata": {
        "id": "7llGDRp_fbwS"
      },
      "execution_count": 40,
      "outputs": []
    },
    {
      "cell_type": "code",
      "source": [
        "add_numbers(6,5)"
      ],
      "metadata": {
        "colab": {
          "base_uri": "https://localhost:8080/"
        },
        "id": "sE4pt4JHfbsw",
        "outputId": "023e7a6d-e7d3-48e0-dd80-3e841c9c0e67"
      },
      "execution_count": 41,
      "outputs": [
        {
          "output_type": "stream",
          "name": "stdout",
          "text": [
            "x 6\n",
            "y 5\n",
            "11\n"
          ]
        }
      ]
    },
    {
      "cell_type": "code",
      "source": [
        "#keyword arguments\n",
        "def greet(name,age,message):\n",
        "  print(message,name,\"your age is\",age)"
      ],
      "metadata": {
        "id": "zct29E4yVYcx"
      },
      "execution_count": 35,
      "outputs": []
    },
    {
      "cell_type": "code",
      "source": [
        "greet(name='Aashutosh',age=99,message=\"Good morning\")#while calling the function, we need to provide key-value pair"
      ],
      "metadata": {
        "colab": {
          "base_uri": "https://localhost:8080/"
        },
        "id": "zCtr9MZ5cpCp",
        "outputId": "9fab8e8d-fb16-4a15-bd31-672c1b5d03e8"
      },
      "execution_count": 37,
      "outputs": [
        {
          "output_type": "stream",
          "name": "stdout",
          "text": [
            "Good morning Aashutosh your age is 99\n"
          ]
        }
      ]
    },
    {
      "cell_type": "code",
      "source": [
        "greet(age=99,message=\"Good morning\",name='Aashutosh')#while calling the function, we need to provide key-value pair"
      ],
      "metadata": {
        "colab": {
          "base_uri": "https://localhost:8080/"
        },
        "id": "bKMgiB73cwLj",
        "outputId": "679ae6fc-da6f-4c88-a077-3bbbf2998daf"
      },
      "execution_count": 38,
      "outputs": [
        {
          "output_type": "stream",
          "name": "stdout",
          "text": [
            "Good morning Aashutosh your age is 99\n"
          ]
        }
      ]
    },
    {
      "cell_type": "code",
      "source": [
        "greet(message=\"How are You?\",name=\"Meera\",age=98)"
      ],
      "metadata": {
        "colab": {
          "base_uri": "https://localhost:8080/"
        },
        "id": "-ow4H41mdVQN",
        "outputId": "a7a2e442-7ecf-4bfe-d8ca-8cc35c85bb2e"
      },
      "execution_count": 39,
      "outputs": [
        {
          "output_type": "stream",
          "name": "stdout",
          "text": [
            "How are You? Meera your age is 98\n"
          ]
        }
      ]
    },
    {
      "cell_type": "code",
      "source": [
        "#arbitrary arguments -- *args -- we can take variable length of arguments in the form of a Tuple\n",
        "def sum(*args):\n",
        "  print(type(args)) #tuple\n",
        "  print(args)\n",
        "\n",
        "  sum=0\n",
        "  for num in args:\n",
        "    sum = sum+num\n",
        "  return sum"
      ],
      "metadata": {
        "id": "v1hVNkEWeWKo"
      },
      "execution_count": 42,
      "outputs": []
    },
    {
      "cell_type": "code",
      "source": [
        "sum(1,2,3,4)"
      ],
      "metadata": {
        "colab": {
          "base_uri": "https://localhost:8080/"
        },
        "id": "trQ_vb-Jg7mN",
        "outputId": "3a026f70-be1c-4b6b-a6b6-ca421c8a058e"
      },
      "execution_count": 43,
      "outputs": [
        {
          "output_type": "stream",
          "name": "stdout",
          "text": [
            "<class 'tuple'>\n",
            "(1, 2, 3, 4)\n"
          ]
        },
        {
          "output_type": "execute_result",
          "data": {
            "text/plain": [
              "10"
            ]
          },
          "metadata": {},
          "execution_count": 43
        }
      ]
    },
    {
      "cell_type": "code",
      "source": [
        "sum(2,3,4,5,9,8,5,7,4,8)"
      ],
      "metadata": {
        "colab": {
          "base_uri": "https://localhost:8080/"
        },
        "id": "H1LNgfpghDEm",
        "outputId": "4cd812e8-12b8-4288-a9a1-054ec80701ec"
      },
      "execution_count": 44,
      "outputs": [
        {
          "output_type": "stream",
          "name": "stdout",
          "text": [
            "<class 'tuple'>\n",
            "(2, 3, 4, 5, 9, 8, 5, 7, 4, 8)\n"
          ]
        },
        {
          "output_type": "execute_result",
          "data": {
            "text/plain": [
              "55"
            ]
          },
          "metadata": {},
          "execution_count": 44
        }
      ]
    },
    {
      "cell_type": "code",
      "source": [
        "def func_new(a,b,*args):\n",
        "  print(a)\n",
        "  print(b)\n",
        "  print(args)"
      ],
      "metadata": {
        "id": "FvXNI2LZhNMT"
      },
      "execution_count": 47,
      "outputs": []
    },
    {
      "cell_type": "code",
      "source": [
        "func_new(5,6,7,8,9)"
      ],
      "metadata": {
        "colab": {
          "base_uri": "https://localhost:8080/"
        },
        "id": "_KZrmemeiw8J",
        "outputId": "2a24057e-2727-4df1-ffc7-b3f859142045"
      },
      "execution_count": 48,
      "outputs": [
        {
          "output_type": "stream",
          "name": "stdout",
          "text": [
            "5\n",
            "6\n",
            "(7, 8, 9)\n"
          ]
        }
      ]
    },
    {
      "cell_type": "code",
      "source": [
        "def new_func(*args,a,b): #*args are supposed to be added towards the end\n",
        "  print(a)\n",
        "  print(b)\n",
        "  print(args)"
      ],
      "metadata": {
        "id": "oqOl1Zz9i4iL"
      },
      "execution_count": 51,
      "outputs": []
    },
    {
      "cell_type": "code",
      "source": [
        "new_func(2,3,4,5,6,7,8,9)"
      ],
      "metadata": {
        "colab": {
          "base_uri": "https://localhost:8080/",
          "height": 144
        },
        "id": "gWX-_oHjjY9q",
        "outputId": "d5f89d12-ff2e-4ca2-867e-5c2d7810462c"
      },
      "execution_count": 50,
      "outputs": [
        {
          "output_type": "error",
          "ename": "TypeError",
          "evalue": "new_func() missing 2 required keyword-only arguments: 'a' and 'b'",
          "traceback": [
            "\u001b[0;31m---------------------------------------------------------------------------\u001b[0m",
            "\u001b[0;31mTypeError\u001b[0m                                 Traceback (most recent call last)",
            "\u001b[0;32m<ipython-input-50-b551e122165f>\u001b[0m in \u001b[0;36m<cell line: 1>\u001b[0;34m()\u001b[0m\n\u001b[0;32m----> 1\u001b[0;31m \u001b[0mnew_func\u001b[0m\u001b[0;34m(\u001b[0m\u001b[0;36m2\u001b[0m\u001b[0;34m,\u001b[0m\u001b[0;36m3\u001b[0m\u001b[0;34m,\u001b[0m\u001b[0;36m4\u001b[0m\u001b[0;34m,\u001b[0m\u001b[0;36m5\u001b[0m\u001b[0;34m,\u001b[0m\u001b[0;36m6\u001b[0m\u001b[0;34m,\u001b[0m\u001b[0;36m7\u001b[0m\u001b[0;34m,\u001b[0m\u001b[0;36m8\u001b[0m\u001b[0;34m,\u001b[0m\u001b[0;36m9\u001b[0m\u001b[0;34m)\u001b[0m\u001b[0;34m\u001b[0m\u001b[0;34m\u001b[0m\u001b[0m\n\u001b[0m",
            "\u001b[0;31mTypeError\u001b[0m: new_func() missing 2 required keyword-only arguments: 'a' and 'b'"
          ]
        }
      ]
    },
    {
      "cell_type": "code",
      "source": [
        "new_func(2,3,4,5,6,7,a=8,b=9)"
      ],
      "metadata": {
        "colab": {
          "base_uri": "https://localhost:8080/"
        },
        "id": "D59O5dsgjc1w",
        "outputId": "c2a08d49-6fff-4940-800f-23e5d4f53b8d"
      },
      "execution_count": 52,
      "outputs": [
        {
          "output_type": "stream",
          "name": "stdout",
          "text": [
            "8\n",
            "9\n",
            "(2, 3, 4, 5, 6, 7)\n"
          ]
        }
      ]
    },
    {
      "cell_type": "code",
      "source": [
        "#arbitrary keyword arguments -- **kwargs\n",
        "def display(**kwargs):\n",
        "  print(type(kwargs))\n",
        "  print(kwargs)\n",
        "\n",
        "  for key, value in kwargs.items():\n",
        "    print(key,\"-->\",value)"
      ],
      "metadata": {
        "id": "Y9YLxVXlkly5"
      },
      "execution_count": 54,
      "outputs": []
    },
    {
      "cell_type": "code",
      "source": [
        "display(name='Aashutosh',age=99,city='Noida') #while calling we need to provide the key value format"
      ],
      "metadata": {
        "colab": {
          "base_uri": "https://localhost:8080/"
        },
        "id": "KGlMlZF3mV5K",
        "outputId": "37c20850-f2f1-46d1-a91e-0dcd8c59b47d"
      },
      "execution_count": 55,
      "outputs": [
        {
          "output_type": "stream",
          "name": "stdout",
          "text": [
            "<class 'dict'>\n",
            "{'name': 'Aashutosh', 'age': 99, 'city': 'Noida'}\n",
            "name --> Aashutosh\n",
            "age --> 99\n",
            "city --> Noida\n"
          ]
        }
      ]
    },
    {
      "cell_type": "code",
      "source": [
        "display(name='Aashutosh',age=99,city='Noida',fruit=\"Mango\",subject=\"Physics\")"
      ],
      "metadata": {
        "colab": {
          "base_uri": "https://localhost:8080/"
        },
        "id": "_LQSUIgmnhhX",
        "outputId": "8d379abe-2010-480b-c6ce-e5ccdd02e40b"
      },
      "execution_count": 58,
      "outputs": [
        {
          "output_type": "stream",
          "name": "stdout",
          "text": [
            "<class 'dict'>\n",
            "{'name': 'Aashutosh', 'age': 99, 'city': 'Noida', 'fruit': 'Mango', 'subject': 'Physics'}\n",
            "name --> Aashutosh\n",
            "age --> 99\n",
            "city --> Noida\n",
            "fruit --> Mango\n",
            "subject --> Physics\n"
          ]
        }
      ]
    },
    {
      "cell_type": "code",
      "source": [
        "def func(a,b,*args,**kwargs):\n",
        "  print(a)\n",
        "  print(b)\n",
        "  print(args)\n",
        "  print(kwargs)"
      ],
      "metadata": {
        "id": "Zz2MS8uRmeDN"
      },
      "execution_count": 56,
      "outputs": []
    },
    {
      "cell_type": "code",
      "source": [
        "func(5,6,7,8,9,10,11,name=\"Aashutosh\",city=\"Noida\")"
      ],
      "metadata": {
        "colab": {
          "base_uri": "https://localhost:8080/"
        },
        "id": "1AOXMCOMnG8B",
        "outputId": "ade9b0f9-e7ad-4d8d-a677-4a0fc904c148"
      },
      "execution_count": 57,
      "outputs": [
        {
          "output_type": "stream",
          "name": "stdout",
          "text": [
            "5\n",
            "6\n",
            "(7, 8, 9, 10, 11)\n",
            "{'name': 'Aashutosh', 'city': 'Noida'}\n"
          ]
        }
      ]
    },
    {
      "cell_type": "code",
      "source": [
        "def funct(**kwargs,a,b):\n",
        "  print(kwargs)\n",
        "  print(a)\n",
        "  print(b)\n",
        "\n",
        "funct(name=\"Aashutosh\",age=99,7,9)"
      ],
      "metadata": {
        "colab": {
          "base_uri": "https://localhost:8080/",
          "height": 109
        },
        "id": "5twHZCuvnSMc",
        "outputId": "f1be3c20-7116-440d-c4a3-9f04a5c44366"
      },
      "execution_count": 60,
      "outputs": [
        {
          "output_type": "error",
          "ename": "SyntaxError",
          "evalue": "invalid syntax (<ipython-input-60-60b130aea139>, line 1)",
          "traceback": [
            "\u001b[0;36m  File \u001b[0;32m\"<ipython-input-60-60b130aea139>\"\u001b[0;36m, line \u001b[0;32m1\u001b[0m\n\u001b[0;31m    def funct(**kwargs,a,b):\u001b[0m\n\u001b[0m                       ^\u001b[0m\n\u001b[0;31mSyntaxError\u001b[0m\u001b[0;31m:\u001b[0m invalid syntax\n"
          ]
        }
      ]
    },
    {
      "cell_type": "code",
      "source": [],
      "metadata": {
        "id": "_CvLm8RxoKFA"
      },
      "execution_count": null,
      "outputs": []
    }
  ]
}