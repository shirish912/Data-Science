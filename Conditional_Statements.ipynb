{
  "nbformat": 4,
  "nbformat_minor": 0,
  "metadata": {
    "colab": {
      "provenance": [],
      "authorship_tag": "ABX9TyN14v7F67FcQSVwpf5x4sDT",
      "include_colab_link": true
    },
    "kernelspec": {
      "name": "python3",
      "display_name": "Python 3"
    },
    "language_info": {
      "name": "python"
    }
  },
  "cells": [
    {
      "cell_type": "markdown",
      "metadata": {
        "id": "view-in-github",
        "colab_type": "text"
      },
      "source": [
        "<a href=\"https://colab.research.google.com/github/charlie-aashutosh/IIM-INDORE-Python/blob/main/Conditional_Statements.ipynb\" target=\"_parent\"><img src=\"https://colab.research.google.com/assets/colab-badge.svg\" alt=\"Open In Colab\"/></a>"
      ]
    },
    {
      "cell_type": "markdown",
      "source": [
        "WAP to take a number as input from the user and check if the number is greater than or less than 15 or number is equal to 15"
      ],
      "metadata": {
        "id": "_K_M1u9yjvBy"
      }
    },
    {
      "cell_type": "code",
      "execution_count": 3,
      "metadata": {
        "colab": {
          "base_uri": "https://localhost:8080/"
        },
        "id": "bVoWnpldjoKo",
        "outputId": "1ed9d9a4-6693-4fb0-9947-664cd69811c9"
      },
      "outputs": [
        {
          "output_type": "stream",
          "name": "stdout",
          "text": [
            "enter a number15\n",
            "num is equal to 15\n"
          ]
        }
      ],
      "source": [
        "num=int(input(\"enter a number\"))\n",
        "\n",
        "if num>15:\n",
        "  print(\"num > 15\")\n",
        "\n",
        "elif num==15:\n",
        "  print(\"num is equal to 15\")\n",
        "\n",
        "else:\n",
        "  print(\"num < 15\")"
      ]
    },
    {
      "cell_type": "markdown",
      "source": [
        "Take age as input from the user and check if the user is eligible for voting or not"
      ],
      "metadata": {
        "id": "ElpVj537lsH9"
      }
    },
    {
      "cell_type": "code",
      "source": [
        "age = int(input(\"enter your age\"))\n",
        "\n",
        "if age>=18:\n",
        "  print(\"eligible for voting\")\n",
        "\n",
        "else:\n",
        "  print(\"not eligible for voting\")"
      ],
      "metadata": {
        "colab": {
          "base_uri": "https://localhost:8080/"
        },
        "id": "eclBnh4gkURM",
        "outputId": "d9bc20e5-67d2-428a-db2a-0e329f6b75de"
      },
      "execution_count": 4,
      "outputs": [
        {
          "output_type": "stream",
          "name": "stdout",
          "text": [
            "enter your age45\n",
            "eligible for voting\n"
          ]
        }
      ]
    },
    {
      "cell_type": "markdown",
      "source": [
        "Take marks as input from the user and give grades to students in the following format\n",
        "\n",
        "marks more than or equal to 90 -- A\n",
        "\n",
        "marks more than or equal to 80 -- B\n",
        "\n",
        "marks more than or equal to 70 -- C\n",
        "\n",
        "marks more than or equal to 60 -- D\n",
        "\n",
        "marks less than 60 -- study hard"
      ],
      "metadata": {
        "id": "svs3-FqHl_XF"
      }
    },
    {
      "cell_type": "code",
      "source": [
        "marks = int(input(\"enter your marks obtained\"))\n",
        "\n",
        "if marks>=90:\n",
        "  print(\"A grade\")\n",
        "elif marks>=80:\n",
        "  print(\"B grade\")\n",
        "elif marks>=70:\n",
        "  print(\"C grade\")\n",
        "elif marks>=60:\n",
        "  print(\"D grade\")\n",
        "else:\n",
        "  print(\"Study hard\")"
      ],
      "metadata": {
        "colab": {
          "base_uri": "https://localhost:8080/"
        },
        "id": "8DYuW5DsmYKQ",
        "outputId": "33c06626-3ce3-48fe-a031-82a6d57f0032"
      },
      "execution_count": 5,
      "outputs": [
        {
          "output_type": "stream",
          "name": "stdout",
          "text": [
            "enter your marks obtained25\n",
            "Study hard\n"
          ]
        }
      ]
    },
    {
      "cell_type": "code",
      "source": [
        "marks = int(input(\"Enter marks obtained\\n\"))\n",
        "\n",
        "if marks >= 90 and marks <=100:\n",
        "  print(\"Grade: A\")\n",
        "elif marks>=80 and marks<90:\n",
        "  print(\"Grade: B\")\n",
        "elif marks>=70 and marks<80:\n",
        "  print(\"Grade: C\")\n",
        "elif marks>=60 and marks<70:\n",
        "  print(\"Grade: D\")\n",
        "elif marks>=0 and marks<60:\n",
        "  print(\"STUDY HARD\")\n",
        "else:\n",
        "  print(\"Invalid Input\")"
      ],
      "metadata": {
        "colab": {
          "base_uri": "https://localhost:8080/"
        },
        "id": "9iC4ysOHo2_L",
        "outputId": "b2707901-5fbd-43fe-abdf-ddc862476f1a"
      },
      "execution_count": 6,
      "outputs": [
        {
          "output_type": "stream",
          "name": "stdout",
          "text": [
            "Enter marks obtained\n",
            "89\n",
            "Grade: B\n"
          ]
        }
      ]
    },
    {
      "cell_type": "markdown",
      "source": [
        "Take a number as input from the user and check if the number is even or odd\n",
        "\n",
        "\n",
        "\n"
      ],
      "metadata": {
        "id": "tWXQki_wp_x7"
      }
    },
    {
      "cell_type": "code",
      "source": [
        "num = int(input(\"enter a number\"))\n",
        "\n",
        "if num%2==0:\n",
        "  print(\"number is even\")\n",
        "\n",
        "else:\n",
        "  print(\"number is odd\")"
      ],
      "metadata": {
        "colab": {
          "base_uri": "https://localhost:8080/"
        },
        "id": "6JywiWSPphx2",
        "outputId": "99dc490b-ea3a-485f-813c-fa6c2e47abca"
      },
      "execution_count": 7,
      "outputs": [
        {
          "output_type": "stream",
          "name": "stdout",
          "text": [
            "enter a number44\n",
            "number is even\n"
          ]
        }
      ]
    },
    {
      "cell_type": "markdown",
      "source": [
        "In a fare, the entry fee of children less than 4 years of age is 0 INR, for children of age 4-15 years, the entry fee is 100 INR and for people more than 15 years of age, the entry fee is 175 INR.\n",
        "\n",
        "Take age as input from the user and display the price of ticket"
      ],
      "metadata": {
        "id": "VcGI53VJq1Do"
      }
    },
    {
      "cell_type": "code",
      "source": [
        "age = int(input(\"enter your age\"))\n",
        "\n",
        "if age<4:\n",
        "  print(\"free of cost entry\")\n",
        "\n",
        "elif 4>=age>=15:\n",
        "  print(\"100 rupees entry fee\")\n",
        "\n",
        "else:\n",
        "  print(\"175 rupees entry\")"
      ],
      "metadata": {
        "colab": {
          "base_uri": "https://localhost:8080/"
        },
        "id": "y18JDlvLp1_l",
        "outputId": "c9cbf836-de62-44ec-8e41-20ff61188abb"
      },
      "execution_count": 10,
      "outputs": [
        {
          "output_type": "stream",
          "name": "stdout",
          "text": [
            "enter your age99\n",
            "175 rupees entry\n"
          ]
        }
      ]
    },
    {
      "cell_type": "markdown",
      "source": [
        "The owner of a company decides to give bonus of 5% to employees who have been working for this company for 5 years or more.\n",
        "\n",
        "Take current salary and years of experience with this company as input and display the incremented salary (if any)"
      ],
      "metadata": {
        "id": "XUhx9FYyrt37"
      }
    },
    {
      "cell_type": "code",
      "source": [
        "current_salary=int(input(\"enter your current salary\"))\n",
        "years=int(input(\"enter years of exp with this company\"))\n",
        "\n",
        "if years>=5:\n",
        "  print(\"incremented salary\", current_salary+current_salary*0.05)\n",
        "\n",
        "else:\n",
        "  print(\"no increment in salary, your salary is\",current_salary)"
      ],
      "metadata": {
        "colab": {
          "base_uri": "https://localhost:8080/"
        },
        "id": "WP9_dOspp18N",
        "outputId": "06ed1cba-3b1a-4504-a525-433af1e7dab8"
      },
      "execution_count": 12,
      "outputs": [
        {
          "output_type": "stream",
          "name": "stdout",
          "text": [
            "enter your current salary1000\n",
            "enter years of exp with this company4\n",
            "no increment in salary, your salary is 1000\n"
          ]
        }
      ]
    },
    {
      "cell_type": "markdown",
      "source": [
        "A grocery store allows 20% discount on items purchased worth more than 2000 INR. Considering price of each commodity to be 200 INR, calculate the price after the discount to be paid at the end\n",
        "\n",
        "Take number of commodities purchased as input from the user"
      ],
      "metadata": {
        "id": "bC46LW82rw2d"
      }
    },
    {
      "cell_type": "code",
      "source": [
        "items=int(input(\"enter number of items purchased\"))\n",
        "current_price=200*items\n",
        "\n",
        "if current_price>2000:\n",
        "  print(\"your discounted price is\",current_price-current_price*0.2)\n",
        "\n",
        "else:\n",
        "  print(\"your final price without any discount is\",current_price)"
      ],
      "metadata": {
        "colab": {
          "base_uri": "https://localhost:8080/"
        },
        "id": "bmedGA9Yrx_N",
        "outputId": "8532b12d-c0cc-4af1-8ba8-4406f890f0ff"
      },
      "execution_count": 14,
      "outputs": [
        {
          "output_type": "stream",
          "name": "stdout",
          "text": [
            "enter number of items purchased12\n",
            "your discounted price is 1920.0\n"
          ]
        }
      ]
    },
    {
      "cell_type": "code",
      "source": [
        "items=int(input(\"enter number of items purchased\"))\n",
        "current_price=200*items\n",
        "new_price=2000\n",
        "\n",
        "if current_price>2000:\n",
        "  print(\"your discounted price is\",current_price-current_price*0.2)\n",
        "\n",
        "else:\n",
        "  print(\"your final price without any discount is\",current_price)"
      ],
      "metadata": {
        "id": "gyGiueMiygeI"
      },
      "execution_count": 14,
      "outputs": []
    },
    {
      "cell_type": "code",
      "source": [
        "#Nested If-Else"
      ],
      "metadata": {
        "id": "Is0CoqFBp155"
      },
      "execution_count": null,
      "outputs": []
    },
    {
      "cell_type": "markdown",
      "source": [
        "Take a number as input from the user and check if the number is even or odd. If the number is even, check if it is greater than 100 or not\n"
      ],
      "metadata": {
        "id": "0kW1d23JqhZc"
      }
    },
    {
      "cell_type": "code",
      "source": [],
      "metadata": {
        "id": "Q8QKY50AqnU8"
      },
      "execution_count": null,
      "outputs": []
    }
  ]
}