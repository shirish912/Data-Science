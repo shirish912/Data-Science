{
  "nbformat": 4,
  "nbformat_minor": 0,
  "metadata": {
    "colab": {
      "provenance": []
    },
    "kernelspec": {
      "name": "python3",
      "display_name": "Python 3"
    },
    "language_info": {
      "name": "python"
    }
  },
  "cells": [
    {
      "cell_type": "markdown",
      "source": [
        "We are learning Python programming"
      ],
      "metadata": {
        "id": "D2GoVKlYEY_I"
      }
    },
    {
      "cell_type": "code",
      "execution_count": 1,
      "metadata": {
        "id": "XYflAy39ERzh"
      },
      "outputs": [],
      "source": [
        "#comments -- they are written to increase the readablitiy of the code, it is not going to get executed"
      ]
    },
    {
      "cell_type": "markdown",
      "source": [
        "Numeric Datatypes\n",
        "\n",
        "1. Integer\n",
        "\n",
        "2. Float\n",
        "\n",
        "3. Complex"
      ],
      "metadata": {
        "id": "r1b0b-_YHuya"
      }
    },
    {
      "cell_type": "code",
      "source": [
        "a=25 #we execute the code so that the value gets inserted inside the variable"
      ],
      "metadata": {
        "id": "myV8PU1FEXsX"
      },
      "execution_count": 2,
      "outputs": []
    },
    {
      "cell_type": "markdown",
      "source": [
        "in order to execute a code cell we can peform any one of the following\n",
        "\n",
        "1. play button\n",
        "\n",
        "2. ctrl+enter\n",
        "\n",
        "3. shift+enter"
      ],
      "metadata": {
        "id": "6nromjFiFe8W"
      }
    },
    {
      "cell_type": "code",
      "source": [
        "print(a) #we will display the content of variable a"
      ],
      "metadata": {
        "colab": {
          "base_uri": "https://localhost:8080/"
        },
        "id": "h48zXs5FEuq0",
        "outputId": "bbf3617d-0b84-49eb-d901-52aaf2c9b535"
      },
      "execution_count": 3,
      "outputs": [
        {
          "output_type": "stream",
          "name": "stdout",
          "text": [
            "25\n"
          ]
        }
      ]
    },
    {
      "cell_type": "code",
      "source": [
        "type(a) #we will display the datatype of the content of variable a"
      ],
      "metadata": {
        "colab": {
          "base_uri": "https://localhost:8080/"
        },
        "id": "fciD3SceEulC",
        "outputId": "0471fe52-4141-4aca-8972-de4fc5365b27"
      },
      "execution_count": 4,
      "outputs": [
        {
          "output_type": "execute_result",
          "data": {
            "text/plain": [
              "int"
            ]
          },
          "metadata": {},
          "execution_count": 4
        }
      ]
    },
    {
      "cell_type": "code",
      "source": [
        "e=-389"
      ],
      "metadata": {
        "id": "S9JcpOvRHHBx"
      },
      "execution_count": 5,
      "outputs": []
    },
    {
      "cell_type": "code",
      "source": [
        "print(e)"
      ],
      "metadata": {
        "colab": {
          "base_uri": "https://localhost:8080/"
        },
        "id": "9LZGgf-8HJ-C",
        "outputId": "58170a33-a57b-491e-c883-a363c6f1aa86"
      },
      "execution_count": 6,
      "outputs": [
        {
          "output_type": "stream",
          "name": "stdout",
          "text": [
            "-389\n"
          ]
        }
      ]
    },
    {
      "cell_type": "code",
      "source": [
        "type(e)"
      ],
      "metadata": {
        "colab": {
          "base_uri": "https://localhost:8080/"
        },
        "id": "QuJVlGGZHMPw",
        "outputId": "fcd3d3a3-7193-40cd-e10e-e66ba1f5f866"
      },
      "execution_count": 7,
      "outputs": [
        {
          "output_type": "execute_result",
          "data": {
            "text/plain": [
              "int"
            ]
          },
          "metadata": {},
          "execution_count": 7
        }
      ]
    },
    {
      "cell_type": "code",
      "source": [
        "b=3.9"
      ],
      "metadata": {
        "id": "HwMpqd-4GAV3"
      },
      "execution_count": 8,
      "outputs": []
    },
    {
      "cell_type": "code",
      "source": [
        "print(b)"
      ],
      "metadata": {
        "colab": {
          "base_uri": "https://localhost:8080/"
        },
        "id": "IqdOOlyvGPl_",
        "outputId": "eb022887-9950-4d7a-a954-347dd9e997b1"
      },
      "execution_count": 9,
      "outputs": [
        {
          "output_type": "stream",
          "name": "stdout",
          "text": [
            "3.9\n"
          ]
        }
      ]
    },
    {
      "cell_type": "code",
      "source": [
        "type(b)"
      ],
      "metadata": {
        "colab": {
          "base_uri": "https://localhost:8080/"
        },
        "id": "DNwD7hmbGR1E",
        "outputId": "7e067990-2ed0-424d-9df2-4132e26a642b"
      },
      "execution_count": 10,
      "outputs": [
        {
          "output_type": "execute_result",
          "data": {
            "text/plain": [
              "float"
            ]
          },
          "metadata": {},
          "execution_count": 10
        }
      ]
    },
    {
      "cell_type": "code",
      "source": [
        "com=4+3j"
      ],
      "metadata": {
        "id": "iGgZtIZxGTj1"
      },
      "execution_count": 11,
      "outputs": []
    },
    {
      "cell_type": "code",
      "source": [
        "print(com)"
      ],
      "metadata": {
        "colab": {
          "base_uri": "https://localhost:8080/"
        },
        "id": "kssrBmXuG39E",
        "outputId": "5531c318-abb3-46ff-958f-b3be64f21ba3"
      },
      "execution_count": 12,
      "outputs": [
        {
          "output_type": "stream",
          "name": "stdout",
          "text": [
            "(4+3j)\n"
          ]
        }
      ]
    },
    {
      "cell_type": "code",
      "source": [
        "type(com)"
      ],
      "metadata": {
        "colab": {
          "base_uri": "https://localhost:8080/"
        },
        "id": "BChGmH1eG44V",
        "outputId": "9b502020-c461-4e2f-fe23-809da5aecc52"
      },
      "execution_count": 13,
      "outputs": [
        {
          "output_type": "execute_result",
          "data": {
            "text/plain": [
              "complex"
            ]
          },
          "metadata": {},
          "execution_count": 13
        }
      ]
    },
    {
      "cell_type": "code",
      "source": [
        "z=4-5j\n",
        "print(z)\n",
        "type(z)"
      ],
      "metadata": {
        "colab": {
          "base_uri": "https://localhost:8080/"
        },
        "id": "RA5FghxMG54Z",
        "outputId": "718f9bfe-99dc-4acd-923c-0b90357afd81"
      },
      "execution_count": 14,
      "outputs": [
        {
          "output_type": "stream",
          "name": "stdout",
          "text": [
            "(4-5j)\n"
          ]
        },
        {
          "output_type": "execute_result",
          "data": {
            "text/plain": [
              "complex"
            ]
          },
          "metadata": {},
          "execution_count": 14
        }
      ]
    },
    {
      "cell_type": "markdown",
      "source": [
        "Sequential Datatypes\n",
        "\n",
        "1. Strings\n",
        "\n",
        "2. Lists\n",
        "\n",
        "3. Tuples"
      ],
      "metadata": {
        "id": "R_S1uyHGH2u9"
      }
    },
    {
      "cell_type": "code",
      "source": [
        "name='India'\n",
        "print(name)\n",
        "type(name)"
      ],
      "metadata": {
        "colab": {
          "base_uri": "https://localhost:8080/"
        },
        "id": "m1XtQLRKHb2T",
        "outputId": "1f397777-9664-4266-da3b-7f440467f0a3"
      },
      "execution_count": 15,
      "outputs": [
        {
          "output_type": "stream",
          "name": "stdout",
          "text": [
            "India\n"
          ]
        },
        {
          "output_type": "execute_result",
          "data": {
            "text/plain": [
              "str"
            ]
          },
          "metadata": {},
          "execution_count": 15
        }
      ]
    },
    {
      "cell_type": "code",
      "source": [
        "num='45'\n",
        "print(num)\n",
        "type(num)"
      ],
      "metadata": {
        "colab": {
          "base_uri": "https://localhost:8080/"
        },
        "id": "Bdf9ouFUJUky",
        "outputId": "9f2adf6b-292a-44ac-fd8b-fbf9942f9bf8"
      },
      "execution_count": 16,
      "outputs": [
        {
          "output_type": "stream",
          "name": "stdout",
          "text": [
            "45\n"
          ]
        },
        {
          "output_type": "execute_result",
          "data": {
            "text/plain": [
              "str"
            ]
          },
          "metadata": {},
          "execution_count": 16
        }
      ]
    },
    {
      "cell_type": "code",
      "source": [
        "num_2=\"-3.670\"\n",
        "print(num_2)\n",
        "type(num_2)"
      ],
      "metadata": {
        "colab": {
          "base_uri": "https://localhost:8080/"
        },
        "id": "Wj-rBRkSJbPY",
        "outputId": "4033d6fb-711c-4d40-df9e-42a0845ce222"
      },
      "execution_count": 17,
      "outputs": [
        {
          "output_type": "stream",
          "name": "stdout",
          "text": [
            "-3.670\n"
          ]
        },
        {
          "output_type": "execute_result",
          "data": {
            "text/plain": [
              "str"
            ]
          },
          "metadata": {},
          "execution_count": 17
        }
      ]
    },
    {
      "cell_type": "code",
      "source": [
        "message='''\n",
        "Hello, Good morning everyone,\n",
        "hope you are doing good,\n",
        "thank you\n",
        "'''"
      ],
      "metadata": {
        "id": "qduk4Is9Jj5R"
      },
      "execution_count": 18,
      "outputs": []
    },
    {
      "cell_type": "code",
      "source": [
        "print(message)"
      ],
      "metadata": {
        "colab": {
          "base_uri": "https://localhost:8080/"
        },
        "id": "b1XrfSdaKD4Y",
        "outputId": "94ccdb3d-5d1f-4c9e-98de-eac1d9f6b805"
      },
      "execution_count": 19,
      "outputs": [
        {
          "output_type": "stream",
          "name": "stdout",
          "text": [
            "\n",
            "Hello, Good morning everyone,\n",
            "hope you are doing good,\n",
            "thank you \n",
            "\n"
          ]
        }
      ]
    },
    {
      "cell_type": "code",
      "source": [
        "var=\"India's\"\n",
        "print(var)\n",
        "type(var)"
      ],
      "metadata": {
        "colab": {
          "base_uri": "https://localhost:8080/"
        },
        "id": "sX6UIZH2KJPT",
        "outputId": "4e8989c4-2027-40eb-8db0-4297ea71bb79"
      },
      "execution_count": 20,
      "outputs": [
        {
          "output_type": "stream",
          "name": "stdout",
          "text": [
            "India's\n"
          ]
        },
        {
          "output_type": "execute_result",
          "data": {
            "text/plain": [
              "str"
            ]
          },
          "metadata": {},
          "execution_count": 20
        }
      ]
    },
    {
      "cell_type": "code",
      "source": [
        "#Operations in Strings -- Concatination, Indexing, Slicing"
      ],
      "metadata": {
        "id": "nZka9agIKwGd"
      },
      "execution_count": 21,
      "outputs": []
    },
    {
      "cell_type": "code",
      "source": [
        "#concatination -- merging two or more strings together using + operator\n",
        "a='Hi'\n",
        "b='Good morning!'\n",
        "c='How are you?'\n",
        "d=a+b+c #the concatination takes place\n",
        "print(d)"
      ],
      "metadata": {
        "colab": {
          "base_uri": "https://localhost:8080/"
        },
        "id": "ovGMkT78KUeS",
        "outputId": "d6a950b0-0faa-4388-f3dc-9b4158807fe5"
      },
      "execution_count": 22,
      "outputs": [
        {
          "output_type": "stream",
          "name": "stdout",
          "text": [
            "HiGood morning!How are you?\n"
          ]
        }
      ]
    },
    {
      "cell_type": "code",
      "source": [
        "e=a+' '+b+' '+c #the concatination takes place\n",
        "print(e)"
      ],
      "metadata": {
        "colab": {
          "base_uri": "https://localhost:8080/"
        },
        "id": "03kGjhVJLsb4",
        "outputId": "e578b45b-9a66-44b6-9afc-7c298f06cead"
      },
      "execution_count": 23,
      "outputs": [
        {
          "output_type": "stream",
          "name": "stdout",
          "text": [
            "Hi Good morning! How are you?\n"
          ]
        }
      ]
    },
    {
      "cell_type": "code",
      "source": [
        "#Indexing -- fetch one element from the string at a time\\\n",
        "a='Indian Ocean'\n",
        "print(a[5])"
      ],
      "metadata": {
        "colab": {
          "base_uri": "https://localhost:8080/"
        },
        "id": "cX3C7KLXL85H",
        "outputId": "0050cc5a-d74e-4b4d-82cd-db8493931822"
      },
      "execution_count": 24,
      "outputs": [
        {
          "output_type": "stream",
          "name": "stdout",
          "text": [
            "n\n"
          ]
        }
      ]
    },
    {
      "cell_type": "code",
      "source": [
        "print(a[-3])"
      ],
      "metadata": {
        "colab": {
          "base_uri": "https://localhost:8080/"
        },
        "id": "SfmxZ8EFOMod",
        "outputId": "72c9fd6f-9b39-4c3c-807f-49f29869191e"
      },
      "execution_count": 25,
      "outputs": [
        {
          "output_type": "stream",
          "name": "stdout",
          "text": [
            "e\n"
          ]
        }
      ]
    },
    {
      "cell_type": "code",
      "source": [
        "#Slicing -- fetch multiple element from the string at a time (in a sequence)\n",
        "a='Indian Ocean'\n",
        "print(a[1:7])"
      ],
      "metadata": {
        "colab": {
          "base_uri": "https://localhost:8080/"
        },
        "id": "shFDvdrmOQtk",
        "outputId": "1463d1e0-ae7c-4949-f157-4085ae011ca2"
      },
      "execution_count": 26,
      "outputs": [
        {
          "output_type": "stream",
          "name": "stdout",
          "text": [
            "ndian \n"
          ]
        }
      ]
    },
    {
      "cell_type": "code",
      "source": [
        "print(a[0:5])"
      ],
      "metadata": {
        "colab": {
          "base_uri": "https://localhost:8080/"
        },
        "id": "htDq1Z1HOofM",
        "outputId": "df6441ef-25a0-44d9-e915-e4218742a873"
      },
      "execution_count": 27,
      "outputs": [
        {
          "output_type": "stream",
          "name": "stdout",
          "text": [
            "India\n"
          ]
        }
      ]
    },
    {
      "cell_type": "code",
      "source": [
        "print(a[:])"
      ],
      "metadata": {
        "colab": {
          "base_uri": "https://localhost:8080/"
        },
        "id": "aVCadwpWWl7l",
        "outputId": "1031411f-6502-4793-b31c-88bb3cb9143c"
      },
      "execution_count": 28,
      "outputs": [
        {
          "output_type": "stream",
          "name": "stdout",
          "text": [
            "Indian Ocean\n"
          ]
        }
      ]
    },
    {
      "cell_type": "code",
      "source": [
        "print(a[3:])"
      ],
      "metadata": {
        "colab": {
          "base_uri": "https://localhost:8080/"
        },
        "id": "yLdTnRBxSiVI",
        "outputId": "93705b13-39e0-4e73-cdd6-e8c861cd083f"
      },
      "execution_count": 29,
      "outputs": [
        {
          "output_type": "stream",
          "name": "stdout",
          "text": [
            "ian Ocean\n"
          ]
        }
      ]
    },
    {
      "cell_type": "code",
      "source": [
        "print(a[:7])"
      ],
      "metadata": {
        "colab": {
          "base_uri": "https://localhost:8080/"
        },
        "id": "J9hoKbmHXIUm",
        "outputId": "88d44c9d-db2e-4523-8382-46b38594f556"
      },
      "execution_count": 30,
      "outputs": [
        {
          "output_type": "stream",
          "name": "stdout",
          "text": [
            "Indian \n"
          ]
        }
      ]
    },
    {
      "cell_type": "code",
      "source": [
        "print(a[-9:])"
      ],
      "metadata": {
        "colab": {
          "base_uri": "https://localhost:8080/"
        },
        "id": "vS9B7lbCXPFw",
        "outputId": "5a60c1f4-2d78-4c4d-d4cb-39fd0a889ada"
      },
      "execution_count": 31,
      "outputs": [
        {
          "output_type": "stream",
          "name": "stdout",
          "text": [
            "ian Ocean\n"
          ]
        }
      ]
    },
    {
      "cell_type": "code",
      "source": [
        "print(a[:-3])"
      ],
      "metadata": {
        "colab": {
          "base_uri": "https://localhost:8080/"
        },
        "id": "L31goKuiXWNT",
        "outputId": "690f140c-6faf-401c-c358-77cb8c568a9d"
      },
      "execution_count": 32,
      "outputs": [
        {
          "output_type": "stream",
          "name": "stdout",
          "text": [
            "Indian Oc\n"
          ]
        }
      ]
    },
    {
      "cell_type": "code",
      "source": [
        "#built in functions"
      ],
      "metadata": {
        "id": "PD4HRFMNXY8I"
      },
      "execution_count": 33,
      "outputs": []
    },
    {
      "cell_type": "code",
      "source": [
        "name='aashutosh'\n",
        "print(name.upper())"
      ],
      "metadata": {
        "colab": {
          "base_uri": "https://localhost:8080/"
        },
        "id": "lgmOE7vmYVFe",
        "outputId": "b5fcc183-5617-42d1-d9b0-8eff0b3c5ea9"
      },
      "execution_count": 34,
      "outputs": [
        {
          "output_type": "stream",
          "name": "stdout",
          "text": [
            "AASHUTOSH\n"
          ]
        }
      ]
    },
    {
      "cell_type": "code",
      "source": [
        "name_3='AASHUTOSH'\n",
        "print(name_3.lower())"
      ],
      "metadata": {
        "id": "coMf9HEhZJIu",
        "outputId": "b117334b-0ce3-437b-bfe8-5ce06337f149",
        "colab": {
          "base_uri": "https://localhost:8080/"
        }
      },
      "execution_count": 35,
      "outputs": [
        {
          "output_type": "stream",
          "name": "stdout",
          "text": [
            "aashutosh\n"
          ]
        }
      ]
    },
    {
      "cell_type": "code",
      "source": [
        "name_2='aAshutosh'\n",
        "print(name_2.capitalize())"
      ],
      "metadata": {
        "colab": {
          "base_uri": "https://localhost:8080/"
        },
        "id": "-F_PLIC5YdJE",
        "outputId": "934e3014-2737-4a47-9b76-517ace8b175e"
      },
      "execution_count": 36,
      "outputs": [
        {
          "output_type": "stream",
          "name": "stdout",
          "text": [
            "Aashutosh\n"
          ]
        }
      ]
    },
    {
      "cell_type": "code",
      "source": [
        "full_name='aAshutosh. mIshra'\n",
        "print(full_name.capitalize())"
      ],
      "metadata": {
        "id": "2p4ji6BIbxUP",
        "outputId": "f059740f-cdb7-40fa-d5d5-4855c1c5b210",
        "colab": {
          "base_uri": "https://localhost:8080/"
        }
      },
      "execution_count": 37,
      "outputs": [
        {
          "output_type": "stream",
          "name": "stdout",
          "text": [
            "Aashutosh. mishra\n"
          ]
        }
      ]
    },
    {
      "cell_type": "code",
      "source": [
        "statement='Hello I am doing good, I am going to Bangalore next Monday, I am going to stay for 3 days'\n",
        "\n",
        "print(statement.replace(\"I am\", \"We are\"))"
      ],
      "metadata": {
        "id": "MBUdas3PZCxq",
        "outputId": "6cff2923-7a7b-43a3-b801-3e6faf551af7",
        "colab": {
          "base_uri": "https://localhost:8080/"
        }
      },
      "execution_count": 38,
      "outputs": [
        {
          "output_type": "stream",
          "name": "stdout",
          "text": [
            "Hello We are doing good, We are going to Bangalore next Monday, We are going to stay for 3 days\n"
          ]
        }
      ]
    },
    {
      "cell_type": "code",
      "source": [
        "print(statement.replace(\"I am\", \"We are\",1))"
      ],
      "metadata": {
        "id": "VGCTBFY-Z6uk",
        "outputId": "6d029102-345a-40fc-e2a3-475a060dfa85",
        "colab": {
          "base_uri": "https://localhost:8080/"
        }
      },
      "execution_count": 39,
      "outputs": [
        {
          "output_type": "stream",
          "name": "stdout",
          "text": [
            "Hello We are doing good, I am going to Bangalore next Monday, I am going to stay for 3 days\n"
          ]
        }
      ]
    },
    {
      "cell_type": "code",
      "source": [
        "print(statement.replace(\"I am\", \"We are\",2))"
      ],
      "metadata": {
        "id": "UjS_1OXCaLyK",
        "outputId": "8df3524c-afe7-4fb9-c6d9-a52f499fbfa4",
        "colab": {
          "base_uri": "https://localhost:8080/"
        }
      },
      "execution_count": 40,
      "outputs": [
        {
          "output_type": "stream",
          "name": "stdout",
          "text": [
            "Hello We are doing good, We are going to Bangalore next Monday, I am going to stay for 3 days\n"
          ]
        }
      ]
    },
    {
      "cell_type": "code",
      "source": [
        "print(statement[:12] + statement[12:].replace(\"I am\", \"We are\"))"
      ],
      "metadata": {
        "id": "6TuGPNThbPty",
        "outputId": "69051e4f-280d-438e-b6de-33f596da2f7a",
        "colab": {
          "base_uri": "https://localhost:8080/"
        }
      },
      "execution_count": 41,
      "outputs": [
        {
          "output_type": "stream",
          "name": "stdout",
          "text": [
            "Hello I am doing good, We are going to Bangalore next Monday, We are going to stay for 3 days\n"
          ]
        }
      ]
    },
    {
      "cell_type": "code",
      "source": [
        "print(name)"
      ],
      "metadata": {
        "id": "kkn7qESjcbpm",
        "outputId": "1e97ad6e-8414-4472-c872-d60302dade64",
        "colab": {
          "base_uri": "https://localhost:8080/"
        }
      },
      "execution_count": 42,
      "outputs": [
        {
          "output_type": "stream",
          "name": "stdout",
          "text": [
            "aashutosh\n"
          ]
        }
      ]
    },
    {
      "cell_type": "code",
      "source": [
        "print(len(name))"
      ],
      "metadata": {
        "id": "jaiCqC6uaS8P",
        "outputId": "f392ea50-1297-449f-b06f-0006a5189d09",
        "colab": {
          "base_uri": "https://localhost:8080/"
        }
      },
      "execution_count": 43,
      "outputs": [
        {
          "output_type": "stream",
          "name": "stdout",
          "text": [
            "9\n"
          ]
        }
      ]
    },
    {
      "cell_type": "code",
      "source": [
        "name.count('a')"
      ],
      "metadata": {
        "id": "PZ2hGq_mcbJp",
        "outputId": "877d90e5-f6b2-4c2c-a08d-f20245f6b62f",
        "colab": {
          "base_uri": "https://localhost:8080/"
        }
      },
      "execution_count": 44,
      "outputs": [
        {
          "output_type": "execute_result",
          "data": {
            "text/plain": [
              "2"
            ]
          },
          "metadata": {},
          "execution_count": 44
        }
      ]
    },
    {
      "cell_type": "code",
      "source": [],
      "metadata": {
        "id": "W9CnMHEGclqT"
      },
      "execution_count": 44,
      "outputs": []
    },
    {
      "cell_type": "code",
      "source": [
        "print(\"Aashutosh \\n Kumar \\n Mishra\")"
      ],
      "metadata": {
        "id": "JdtkeORAdDEb",
        "outputId": "1e6c4939-a5ea-4bbd-fa59-356c2188a82d",
        "colab": {
          "base_uri": "https://localhost:8080/"
        }
      },
      "execution_count": 45,
      "outputs": [
        {
          "output_type": "stream",
          "name": "stdout",
          "text": [
            "Aashutosh \n",
            " Kumar \n",
            " Mishra\n"
          ]
        }
      ]
    },
    {
      "cell_type": "code",
      "source": [
        "list_1=['Mango','Banana',25,300,-35,-25.5,'Russia','Ukraine']"
      ],
      "metadata": {
        "id": "64I7xmw2dRPu"
      },
      "execution_count": 46,
      "outputs": []
    },
    {
      "cell_type": "code",
      "source": [
        "print(list_1[-2])"
      ],
      "metadata": {
        "id": "uoXWRq3agTUm",
        "outputId": "4b2ac570-2dba-49b8-9e9e-b704f4f8cc26",
        "colab": {
          "base_uri": "https://localhost:8080/"
        }
      },
      "execution_count": 47,
      "outputs": [
        {
          "output_type": "stream",
          "name": "stdout",
          "text": [
            "Russia\n"
          ]
        }
      ]
    },
    {
      "cell_type": "code",
      "source": [
        "print(list_1[5])"
      ],
      "metadata": {
        "id": "ThHZyQ5HgnyE",
        "outputId": "283038f0-2af3-4e5b-e3cf-9062fa5cfef1",
        "colab": {
          "base_uri": "https://localhost:8080/"
        }
      },
      "execution_count": 48,
      "outputs": [
        {
          "output_type": "stream",
          "name": "stdout",
          "text": [
            "-25.5\n"
          ]
        }
      ]
    },
    {
      "cell_type": "code",
      "source": [
        "print(list_1[1:5])"
      ],
      "metadata": {
        "id": "Vkqms0zVgsOv",
        "outputId": "18e5ce7f-5b1b-4f85-a7f3-20722cfb8dcb",
        "colab": {
          "base_uri": "https://localhost:8080/"
        }
      },
      "execution_count": 49,
      "outputs": [
        {
          "output_type": "stream",
          "name": "stdout",
          "text": [
            "['Banana', 25, 300, -35]\n"
          ]
        }
      ]
    },
    {
      "cell_type": "code",
      "source": [
        "print(list_1[::-1]) #reverse"
      ],
      "metadata": {
        "id": "_qbZSj1chYWC",
        "outputId": "f1b3c78a-2e25-4a12-e25b-b5359acb58b9",
        "colab": {
          "base_uri": "https://localhost:8080/"
        }
      },
      "execution_count": 50,
      "outputs": [
        {
          "output_type": "stream",
          "name": "stdout",
          "text": [
            "['Ukraine', 'Russia', -25.5, -35, 300, 25, 'Banana', 'Mango']\n"
          ]
        }
      ]
    },
    {
      "cell_type": "code",
      "source": [
        "print(list_1[::1])"
      ],
      "metadata": {
        "id": "rUy48YaEhqZF",
        "outputId": "7a4900ec-4d1e-4f0e-f807-6698668b8e54",
        "colab": {
          "base_uri": "https://localhost:8080/"
        }
      },
      "execution_count": 51,
      "outputs": [
        {
          "output_type": "stream",
          "name": "stdout",
          "text": [
            "['Mango', 'Banana', 25, 300, -35, -25.5, 'Russia', 'Ukraine']\n"
          ]
        }
      ]
    },
    {
      "cell_type": "code",
      "source": [
        "print(list_1[::3])"
      ],
      "metadata": {
        "id": "uqZP4g94hzti",
        "outputId": "2047ecf3-1430-4440-d4b5-8696c87d9505",
        "colab": {
          "base_uri": "https://localhost:8080/"
        }
      },
      "execution_count": 52,
      "outputs": [
        {
          "output_type": "stream",
          "name": "stdout",
          "text": [
            "['Mango', 300, 'Russia']\n"
          ]
        }
      ]
    },
    {
      "cell_type": "code",
      "source": [
        "my_list=[2,3,4,5,6,8]\n",
        "sum(my_list)"
      ],
      "metadata": {
        "id": "3L2ctzvAh4Lz",
        "outputId": "b9b7c459-6555-49ee-83fb-756d4769b374",
        "colab": {
          "base_uri": "https://localhost:8080/"
        }
      },
      "execution_count": 53,
      "outputs": [
        {
          "output_type": "execute_result",
          "data": {
            "text/plain": [
              "28"
            ]
          },
          "metadata": {},
          "execution_count": 53
        }
      ]
    },
    {
      "cell_type": "code",
      "source": [
        "max(my_list)"
      ],
      "metadata": {
        "id": "1WOSyz_ricWW",
        "outputId": "0a48ecc7-674b-4f36-fe2c-8d3696c1dc6c",
        "colab": {
          "base_uri": "https://localhost:8080/"
        }
      },
      "execution_count": 54,
      "outputs": [
        {
          "output_type": "execute_result",
          "data": {
            "text/plain": [
              "8"
            ]
          },
          "metadata": {},
          "execution_count": 54
        }
      ]
    },
    {
      "cell_type": "code",
      "source": [
        "sum(my_list[0:2])"
      ],
      "metadata": {
        "id": "Lw07EoXxinE1",
        "outputId": "29a18b44-ddcd-495c-e31c-32f1c341b999",
        "colab": {
          "base_uri": "https://localhost:8080/"
        }
      },
      "execution_count": 55,
      "outputs": [
        {
          "output_type": "execute_result",
          "data": {
            "text/plain": [
              "5"
            ]
          },
          "metadata": {},
          "execution_count": 55
        }
      ]
    },
    {
      "cell_type": "code",
      "source": [
        "my_list[::-2]"
      ],
      "metadata": {
        "id": "SHJu-JJ-iq1O",
        "outputId": "7ae0f4f3-65a1-4efe-b33d-2726fd65b66e",
        "colab": {
          "base_uri": "https://localhost:8080/"
        }
      },
      "execution_count": 56,
      "outputs": [
        {
          "output_type": "execute_result",
          "data": {
            "text/plain": [
              "[8, 5, 3]"
            ]
          },
          "metadata": {},
          "execution_count": 56
        }
      ]
    },
    {
      "cell_type": "code",
      "source": [
        "#creating a list from a string\n",
        "list_2=list(\"Aashutosh Mishra\")\n",
        "print(list_2)"
      ],
      "metadata": {
        "id": "BhKMY1Gkizgl",
        "outputId": "018721a3-3528-4068-8e2a-202440470315",
        "colab": {
          "base_uri": "https://localhost:8080/"
        }
      },
      "execution_count": 57,
      "outputs": [
        {
          "output_type": "stream",
          "name": "stdout",
          "text": [
            "['A', 'a', 's', 'h', 'u', 't', 'o', 's', 'h', ' ', 'M', 'i', 's', 'h', 'r', 'a']\n"
          ]
        }
      ]
    },
    {
      "cell_type": "code",
      "source": [
        "list_3=list((3,4,5,5,'Mishra'))\n",
        "print(list_3)\n",
        "type(list_3)"
      ],
      "metadata": {
        "id": "7ZZBpg2FjVMf",
        "outputId": "10dfb0d8-e13d-41dd-b8c2-c58e2382dec9",
        "colab": {
          "base_uri": "https://localhost:8080/"
        }
      },
      "execution_count": 58,
      "outputs": [
        {
          "output_type": "stream",
          "name": "stdout",
          "text": [
            "[3, 4, 5, 5, 'Mishra']\n"
          ]
        },
        {
          "output_type": "execute_result",
          "data": {
            "text/plain": [
              "list"
            ]
          },
          "metadata": {},
          "execution_count": 58
        }
      ]
    },
    {
      "cell_type": "code",
      "source": [
        "#built in functions"
      ],
      "metadata": {
        "id": "iz-NyfwskLsE"
      },
      "execution_count": 59,
      "outputs": []
    },
    {
      "cell_type": "code",
      "source": [
        "new_list=['AI','Data Engineering','Data Mining']"
      ],
      "metadata": {
        "id": "Q_3SiY-8kLog"
      },
      "execution_count": 60,
      "outputs": []
    },
    {
      "cell_type": "code",
      "source": [
        "new_list.append('Data Science')#append() will add an element towards the end of the list\n",
        "print(new_list)"
      ],
      "metadata": {
        "id": "C7ldp6XhkLkw",
        "outputId": "202aae47-b8c1-4d53-f5d1-9eb2da244519",
        "colab": {
          "base_uri": "https://localhost:8080/"
        }
      },
      "execution_count": 61,
      "outputs": [
        {
          "output_type": "stream",
          "name": "stdout",
          "text": [
            "['AI', 'Data Engineering', 'Data Mining', 'Data Science']\n"
          ]
        }
      ]
    },
    {
      "cell_type": "code",
      "source": [
        "new_list.insert(2,'NLP') #insert() will add an element at a desired index position\n",
        "print(new_list)"
      ],
      "metadata": {
        "id": "B4eSxpxJkLar",
        "outputId": "9f395b8b-455f-407b-ad05-f099b67bbdb7",
        "colab": {
          "base_uri": "https://localhost:8080/"
        }
      },
      "execution_count": 62,
      "outputs": [
        {
          "output_type": "stream",
          "name": "stdout",
          "text": [
            "['AI', 'Data Engineering', 'NLP', 'Data Mining', 'Data Science']\n"
          ]
        }
      ]
    },
    {
      "cell_type": "code",
      "source": [
        "l1=[23,45,89]\n",
        "new_list.extend(l1 )"
      ],
      "metadata": {
        "id": "y6AM3NoBl9TJ"
      },
      "execution_count": 63,
      "outputs": []
    },
    {
      "cell_type": "code",
      "source": [
        "print(new_list)"
      ],
      "metadata": {
        "id": "at_Lp2PQl9Qi",
        "outputId": "cb44bbd1-df9a-4243-b6e2-8755aaea789e",
        "colab": {
          "base_uri": "https://localhost:8080/"
        }
      },
      "execution_count": 64,
      "outputs": [
        {
          "output_type": "stream",
          "name": "stdout",
          "text": [
            "['AI', 'Data Engineering', 'NLP', 'Data Mining', 'Data Science', 23, 45, 89]\n"
          ]
        }
      ]
    },
    {
      "cell_type": "code",
      "source": [
        "print(new_list)"
      ],
      "metadata": {
        "id": "EsBUeFlInoAy",
        "outputId": "02406671-95c3-49e4-a242-8705a058332d",
        "colab": {
          "base_uri": "https://localhost:8080/"
        }
      },
      "execution_count": 66,
      "outputs": [
        {
          "output_type": "stream",
          "name": "stdout",
          "text": [
            "['AI', 'Data Engineering', 'NLP', 'Data Mining', 'Data Science', 23, 45, 89]\n"
          ]
        }
      ]
    },
    {
      "cell_type": "code",
      "source": [
        "new_list[2:3]=[4,5]"
      ],
      "metadata": {
        "id": "K-kZOvUxnawh"
      },
      "execution_count": 68,
      "outputs": []
    },
    {
      "cell_type": "code",
      "source": [
        "print(new_list)"
      ],
      "metadata": {
        "id": "8BAUrIF3oIIe",
        "outputId": "694ac7b4-265e-402f-8bf8-ce640bd29e51",
        "colab": {
          "base_uri": "https://localhost:8080/"
        }
      },
      "execution_count": 69,
      "outputs": [
        {
          "output_type": "stream",
          "name": "stdout",
          "text": [
            "['AI', 'Data Engineering', 4, 5, 'Data Mining', 'Data Science', 23, 45, 89]\n"
          ]
        }
      ]
    },
    {
      "cell_type": "code",
      "source": [
        "new_list_1=list(new_list)"
      ],
      "metadata": {
        "id": "Tz1GwhMDl9NP"
      },
      "execution_count": null,
      "outputs": []
    },
    {
      "cell_type": "code",
      "source": [
        "print(my_str)"
      ],
      "metadata": {
        "id": "VNg4Tm64l9KU"
      },
      "execution_count": null,
      "outputs": []
    },
    {
      "cell_type": "code",
      "source": [
        "type(my_str)"
      ],
      "metadata": {
        "id": "Ki0ywxYtl9Hr"
      },
      "execution_count": null,
      "outputs": []
    },
    {
      "cell_type": "code",
      "source": [
        "list_new=[2,3,4,5,6,7]\n",
        "list_new.remove(3)\n",
        "print(list_new)"
      ],
      "metadata": {
        "id": "Y-GuK1DdoooA",
        "outputId": "473cb30d-8ea7-4215-d8ed-88f0e9ee9d1f",
        "colab": {
          "base_uri": "https://localhost:8080/"
        }
      },
      "execution_count": 71,
      "outputs": [
        {
          "output_type": "stream",
          "name": "stdout",
          "text": [
            "[2, 4, 5, 6, 7]\n"
          ]
        }
      ]
    },
    {
      "cell_type": "code",
      "source": [
        "list_new.append(3)\n",
        "print(list_new)"
      ],
      "metadata": {
        "id": "grvvPMPNqQYz",
        "outputId": "81788211-3974-407a-b95e-d9d9441c0da6",
        "colab": {
          "base_uri": "https://localhost:8080/"
        }
      },
      "execution_count": 73,
      "outputs": [
        {
          "output_type": "stream",
          "name": "stdout",
          "text": [
            "[2, 4, 5, 6, 7, 3, 3]\n"
          ]
        }
      ]
    },
    {
      "cell_type": "code",
      "source": [
        "list_new.insert(2,3)"
      ],
      "metadata": {
        "id": "eityp8zNqWVK"
      },
      "execution_count": 74,
      "outputs": []
    },
    {
      "cell_type": "code",
      "source": [
        "print(list_new)"
      ],
      "metadata": {
        "id": "aUdO0YL8qZ_O",
        "outputId": "b7320208-6640-443d-8d4f-6e7e4f032a7b",
        "colab": {
          "base_uri": "https://localhost:8080/"
        }
      },
      "execution_count": 75,
      "outputs": [
        {
          "output_type": "stream",
          "name": "stdout",
          "text": [
            "[2, 4, 3, 5, 6, 7, 3, 3]\n"
          ]
        }
      ]
    },
    {
      "cell_type": "code",
      "source": [
        "list_new.remove(3)\n",
        "print(list_new)"
      ],
      "metadata": {
        "id": "wbn6vG6JqdC8",
        "outputId": "f8992c98-a67f-4dbc-ba06-6aa8fc3d416b",
        "colab": {
          "base_uri": "https://localhost:8080/"
        }
      },
      "execution_count": 76,
      "outputs": [
        {
          "output_type": "stream",
          "name": "stdout",
          "text": [
            "[2, 4, 5, 6, 7, 3, 3]\n"
          ]
        }
      ]
    },
    {
      "cell_type": "code",
      "source": [
        "list_new.pop(4)\n",
        "print(list_new)"
      ],
      "metadata": {
        "id": "nkCcrD_tqlKB",
        "outputId": "6c9c4dec-05db-4eec-dd1e-eeb6c1a12bb8",
        "colab": {
          "base_uri": "https://localhost:8080/"
        }
      },
      "execution_count": 77,
      "outputs": [
        {
          "output_type": "stream",
          "name": "stdout",
          "text": [
            "[2, 4, 5, 6, 3, 3]\n"
          ]
        }
      ]
    },
    {
      "cell_type": "code",
      "source": [
        "list_new.pop()\n",
        "print(list_new)"
      ],
      "metadata": {
        "id": "ZcyYje4_qlGh",
        "outputId": "d5b0a464-e20c-4d5b-ae8e-0f7e08d21565",
        "colab": {
          "base_uri": "https://localhost:8080/"
        }
      },
      "execution_count": 78,
      "outputs": [
        {
          "output_type": "stream",
          "name": "stdout",
          "text": [
            "[2, 4, 5, 6, 3]\n"
          ]
        }
      ]
    },
    {
      "cell_type": "code",
      "source": [],
      "metadata": {
        "id": "LsNHYambqlEL"
      },
      "execution_count": null,
      "outputs": []
    },
    {
      "cell_type": "code",
      "source": [
        "#nested list\n"
      ],
      "metadata": {
        "id": "IOIhZ3ysj-jp"
      },
      "execution_count": null,
      "outputs": []
    }
  ]
}